{
 "cells": [
  {
   "cell_type": "markdown",
   "id": "f24c4199-a6f6-4096-b96b-0b9d7d7f6821",
   "metadata": {},
   "source": [
    "# Additional data collection of OOD example"
   ]
  },
  {
   "cell_type": "code",
   "execution_count": null,
   "id": "2cf2d38d-5ca4-412c-84d6-4bcd30ac2d01",
   "metadata": {},
   "outputs": [],
   "source": [
    "import sys\n",
    "sys.version"
   ]
  },
  {
   "cell_type": "code",
   "execution_count": null,
   "id": "7be6d5eb-7131-407a-a02c-32007f22b012",
   "metadata": {},
   "outputs": [],
   "source": [
    "%load_ext dotenv\n",
    "%dotenv"
   ]
  },
  {
   "cell_type": "code",
   "execution_count": null,
   "id": "9da7fc09-fced-4008-a8e7-46e7deb3f40b",
   "metadata": {},
   "outputs": [],
   "source": [
    "import os\n",
    "\n",
    "from netunicorn.base import MinionPool, Task\n",
    "from netunicorn.base.experiment import Experiment, ExperimentStatus\n",
    "from netunicorn.base.pipeline import Pipeline\n",
    "from netunicorn.library.basic import ShellCommand\n",
    "from netunicorn.client.remote import RemoteClient"
   ]
  },
  {
   "cell_type": "code",
   "execution_count": null,
   "id": "13bba044-2ffa-4f97-9c7c-0b59c6856e8f",
   "metadata": {},
   "outputs": [],
   "source": [
    "experiment_label = 'patator-ood-0.3.3'"
   ]
  },
  {
   "cell_type": "code",
   "execution_count": null,
   "id": "79008c05-6cfe-4795-8128-5454fe516126",
   "metadata": {},
   "outputs": [],
   "source": [
    "endpoint = os.environ['VICTIM_ENDPOINT'].removeprefix(\"https://\")"
   ]
  },
  {
   "cell_type": "code",
   "execution_count": null,
   "id": "de6a7be2-1412-4540-80c9-b2f28678d0ce",
   "metadata": {},
   "outputs": [],
   "source": [
    "attacker_pipeline = Pipeline(tasks=[ShellCommand(f\"hydra -l admin -P passwords.txt -s 443 https-get://{endpoint}\")])\n",
    "attacker_pipeline.environment_definition.image = \"redacted/hydra:arm64\""
   ]
  },
  {
   "cell_type": "code",
   "execution_count": null,
   "id": "39f61910-c983-4727-99dc-853624710193",
   "metadata": {},
   "outputs": [],
   "source": [
    "login = os.environ['VALID_VICTIM_LOGIN']\n",
    "password = os.environ['VALID_VICTIM_PASSWORD']\n",
    "class BenignTask(Task):\n",
    "    def __init__(self, url):\n",
    "        self.url = url\n",
    "    \n",
    "    def run(self):\n",
    "        import subprocess\n",
    "        for i in range(100):\n",
    "            subprocess.check_output(f'curl ' + self.url, shell=True)\n",
    "        return 0\n",
    "\n",
    "class BenignTaskAsync(Task):\n",
    "    def __init__(self, url):\n",
    "        self.url = url\n",
    "    \n",
    "    def run(self):\n",
    "        import aiohttp\n",
    "        import asyncio\n",
    "        import nest_asyncio\n",
    "        nest_asyncio.apply()\n",
    "        \n",
    "        async def request():\n",
    "            async with aiohttp.ClientSession() as session:\n",
    "                r = await session.get(self.url)\n",
    "                r.close()\n",
    "        \n",
    "        async def main():\n",
    "            requests = [request() for _ in range(10)]\n",
    "            await asyncio.gather(*requests)\n",
    "        \n",
    "        loop = asyncio.get_event_loop()\n",
    "        for i in range(100):\n",
    "            loop.run_until_complete(main())\n",
    "        return 0\n",
    "\n",
    "class BenignTaskAuthorized(Task):\n",
    "    def __init__(self, label: str):\n",
    "        self.label = label\n",
    "    \n",
    "    def run(self):\n",
    "        import requests\n",
    "        for i in range(100):\n",
    "            requests.get('redacted/unicorn/mediator/api/v1/experiment/' + self.label, auth=(f'{login}', f'{password}'))\n",
    "        return 0"
   ]
  },
  {
   "cell_type": "code",
   "execution_count": null,
   "id": "9647c902-f89a-4493-82cd-12ee9689da65",
   "metadata": {},
   "outputs": [],
   "source": [
    "benign_pipeline = Pipeline()\n",
    "for i in range(20):\n",
    "    (benign_pipeline\n",
    "     .then(BenignTask('redacted'))\n",
    "     .then(BenignTask('redacted'))\n",
    "     .then(BenignTaskAsync('redacted'))\n",
    "     .then(BenignTaskAuthorized(experiment_label))\n",
    "    )\n",
    "    \n",
    "\n",
    "benign_pipeline.environment_definition.image = \"redacted\""
   ]
  },
  {
   "cell_type": "code",
   "execution_count": null,
   "id": "554adc38-82fc-4aa3-8972-ed3ff3f1708c",
   "metadata": {},
   "outputs": [],
   "source": [
    "client = RemoteClient(\n",
    "    endpoint=os.environ['UNICORN_ENDPOINT'],\n",
    "    login=os.environ['UNICORN_LOGIN'],\n",
    "    password=os.environ['UNICORN_PASSWORD']\n",
    ")"
   ]
  },
  {
   "cell_type": "code",
   "execution_count": null,
   "id": "8aa59757-025d-420c-a30c-e2fbe9c711e4",
   "metadata": {},
   "outputs": [],
   "source": [
    "minion_pool = client.get_minion_pool()"
   ]
  },
  {
   "cell_type": "code",
   "execution_count": null,
   "id": "78430380-ca7b-4312-8859-13a1712b020e",
   "metadata": {},
   "outputs": [],
   "source": [
    "attacker_pool = MinionPool([x for x in minion_pool if x.name in {\n",
    "    'raspi-e4:5f:01:75:6b:2c',\n",
    "    'raspi-e4:5f:01:72:a2:eb',\n",
    "}])\n",
    "len(attacker_pool)"
   ]
  },
  {
   "cell_type": "code",
   "execution_count": null,
   "id": "a87fc467-58ea-4755-bab9-2aa6a7b82051",
   "metadata": {},
   "outputs": [],
   "source": [
    "benign_pool = MinionPool([x for x in minion_pool if x.name in {\n",
    "    'raspi-e4:5f:01:56:d8:fc',\n",
    "    'raspi-e4:5f:01:56:d8:f3',\n",
    "    'raspi-e4:5f:01:75:54:04',\n",
    "    'raspi-e4:5f:01:56:d6:ce',\n",
    "    'raspi-e4:5f:01:56:d9:a2',\n",
    "}])\n",
    "len(benign_pool)"
   ]
  },
  {
   "cell_type": "code",
   "execution_count": null,
   "id": "b2c7aa0e-533a-40a2-a320-0fbe2fed7c2f",
   "metadata": {},
   "outputs": [],
   "source": [
    "experiment = Experiment().map(attacker_pool, attacker_pipeline).map(benign_pool, benign_pipeline)"
   ]
  },
  {
   "cell_type": "code",
   "execution_count": null,
   "id": "c6d3a34d-471b-4733-8046-7d31135386bb",
   "metadata": {},
   "outputs": [],
   "source": [
    "client.prepare_experiment(experiment, experiment_label)"
   ]
  },
  {
   "cell_type": "code",
   "execution_count": null,
   "id": "5c7b70a1-033e-4a81-83ad-d3b67d713328",
   "metadata": {},
   "outputs": [],
   "source": [
    "client.start_execution(experiment_label)"
   ]
  },
  {
   "cell_type": "code",
   "execution_count": null,
   "id": "4f720846-174b-4a4b-881e-7b2736849117",
   "metadata": {},
   "outputs": [],
   "source": []
  }
 ],
 "metadata": {
  "kernelspec": {
   "display_name": "Python 3 (ipykernel)",
   "language": "python",
   "name": "python3"
  },
  "language_info": {
   "codemirror_mode": {
    "name": "ipython",
    "version": 3
   },
   "file_extension": ".py",
   "mimetype": "text/x-python",
   "name": "python",
   "nbconvert_exporter": "python",
   "pygments_lexer": "ipython3",
   "version": "3.9.0"
  }
 },
 "nbformat": 4,
 "nbformat_minor": 5
}
