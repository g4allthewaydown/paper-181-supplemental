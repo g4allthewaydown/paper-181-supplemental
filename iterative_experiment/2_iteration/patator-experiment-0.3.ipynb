{
 "cells": [
  {
   "cell_type": "markdown",
   "id": "98734773-cdff-4dda-830c-e642a08837c5",
   "metadata": {
    "tags": []
   },
   "source": [
    "# Changes description compared to 0.2\n",
    "- Add more different benign traffic to imitate real world data \n",
    "- Set `persistent=0` in attack traffic to use separate connections for each attack instead of reusing the same connection"
   ]
  },
  {
   "cell_type": "markdown",
   "id": "580aa4dd-7024-4440-aec6-0a8da74aad68",
   "metadata": {},
   "source": [
    "## Collecting data from Campus infrastructure"
   ]
  },
  {
   "cell_type": "code",
   "execution_count": null,
   "id": "657eb616-117c-4601-9a98-7682c8a51670",
   "metadata": {},
   "outputs": [],
   "source": [
    "import sys\n",
    "sys.version"
   ]
  },
  {
   "cell_type": "code",
   "execution_count": null,
   "id": "34390fb7-ced4-435c-a44f-a407d0c7315f",
   "metadata": {},
   "outputs": [],
   "source": [
    "%load_ext dotenv\n",
    "%dotenv"
   ]
  },
  {
   "cell_type": "code",
   "execution_count": null,
   "id": "2aa438c5-7909-49b2-8cfd-8fcc341e3217",
   "metadata": {},
   "outputs": [],
   "source": [
    "import os\n",
    "\n",
    "from netunicorn.base import MinionPool, Task\n",
    "from netunicorn.base.experiment import Experiment, ExperimentStatus\n",
    "from netunicorn.base.pipeline import Pipeline\n",
    "from netunicorn.library.basic import ShellCommand\n",
    "from netunicorn.client.remote import RemoteClient"
   ]
  },
  {
   "cell_type": "code",
   "execution_count": null,
   "id": "9c48fde1-206f-4614-9ff0-3973937c18cc",
   "metadata": {},
   "outputs": [],
   "source": [
    "experiment_label_1 = 'patator-0.3.14-1'\n",
    "experiment_label_2 = 'patator-0.3.14-2'"
   ]
  },
  {
   "cell_type": "code",
   "execution_count": null,
   "id": "6c82fc9d-81c1-4698-bc4d-510312ef2263",
   "metadata": {},
   "outputs": [],
   "source": [
    "login = os.environ['VALID_VICTIM_LOGIN']\n",
    "password = os.environ['VALID_VICTIM_PASSWORD']\n",
    "class BenignTask(Task):\n",
    "    def __init__(self, url):\n",
    "        self.url = url\n",
    "    \n",
    "    def run(self):\n",
    "        import subprocess\n",
    "        for i in range(100):\n",
    "            subprocess.check_output(f'curl ' + self.url, shell=True)\n",
    "        return 0\n",
    "\n",
    "class BenignTaskAsync(Task):\n",
    "    def __init__(self, url):\n",
    "        self.url = url\n",
    "    \n",
    "    def run(self):\n",
    "        import aiohttp\n",
    "        import asyncio\n",
    "        import nest_asyncio\n",
    "        nest_asyncio.apply()\n",
    "        \n",
    "        async def request():\n",
    "            async with aiohttp.ClientSession() as session:\n",
    "                r = await session.get(self.url)\n",
    "                r.close()\n",
    "        \n",
    "        async def main():\n",
    "            requests = [request() for _ in range(10)]\n",
    "            await asyncio.gather(*requests)\n",
    "        \n",
    "        loop = asyncio.get_event_loop()\n",
    "        for i in range(100):\n",
    "            loop.run_until_complete(main())\n",
    "        return 0\n",
    "\n",
    "class BenignTaskAuthorized(Task):\n",
    "    def __init__(self, label: str):\n",
    "        self.label = label\n",
    "    \n",
    "    def run(self):\n",
    "        import requests\n",
    "        for i in range(100):\n",
    "            requests.get('redacted/unicorn/mediator/api/v1/experiment/' + self.label, auth=(f'{login}', f'{password}'))\n",
    "        return 0"
   ]
  },
  {
   "cell_type": "code",
   "execution_count": null,
   "id": "9c3377ab-5bbe-4264-8e71-a32392843b86",
   "metadata": {},
   "outputs": [],
   "source": [
    "attacker_pipeline = (\n",
    "    Pipeline()\n",
    "    .then(ShellCommand(\n",
    "        \"python ./patator.py http_fuzz \"\n",
    "        f\"url={os.environ['VICTIM_ENDPOINT']} \"\n",
    "        \"persistent=0 user_pass=FILE0:FILE0 0=/opt/patator/passwords.txt -x ignore:code=401\"\n",
    "    ))\n",
    ")\n",
    "attacker_pipeline.environment_definition.image = \"redacted\""
   ]
  },
  {
   "cell_type": "code",
   "execution_count": null,
   "id": "d9350159-b490-461c-ad5c-f4b8cf4016bc",
   "metadata": {},
   "outputs": [],
   "source": [
    "benign_pipeline = Pipeline()\n",
    "for i in range(20):\n",
    "    (benign_pipeline\n",
    "     .then(BenignTask('https://redacted/about/'))\n",
    "     .then(BenignTask('https://redacted/unicorn/mediator/health'))\n",
    "     .then(BenignTaskAsync('https://redacted/about/'))\n",
    "     .then(BenignTaskAuthorized(experiment_label_1))\n",
    "    )\n",
    "    \n",
    "\n",
    "benign_pipeline.environment_definition.image = \"redacted\""
   ]
  },
  {
   "cell_type": "code",
   "execution_count": null,
   "id": "0a375f7f-ce05-4a19-85e8-1f978563a893",
   "metadata": {},
   "outputs": [],
   "source": [
    "client = RemoteClient(\n",
    "    endpoint=os.environ['UNICORN_ENDPOINT'],\n",
    "    login=os.environ['UNICORN_LOGIN'],\n",
    "    password=os.environ['UNICORN_PASSWORD']\n",
    ")"
   ]
  },
  {
   "cell_type": "code",
   "execution_count": null,
   "id": "2af57e8f-153e-4879-aff9-0990da43c07b",
   "metadata": {},
   "outputs": [],
   "source": [
    "minion_pool = client.get_minion_pool()"
   ]
  },
  {
   "cell_type": "code",
   "execution_count": null,
   "id": "9e947924-3ba3-4a8b-bfc5-9a7beee801aa",
   "metadata": {},
   "outputs": [],
   "source": [
    "pool_1 = MinionPool([x for x in minion_pool if x.name in {\n",
    "    'raspi-e4:5f:01:75:6b:2c',\n",
    "    'raspi-e4:5f:01:72:a2:eb',\n",
    "    'raspi-e4:5f:01:56:d8:fc',\n",
    "}])\n",
    "\n",
    "pool_2 = MinionPool([x for x in minion_pool if x.name in {\n",
    "    'raspi-dc:a6:32:d7:6e:64',\n",
    "    'raspi-e4:5f:01:56:d9:73',\n",
    "    'raspi-e4:5f:01:56:d9:8b'\n",
    "}])"
   ]
  },
  {
   "cell_type": "code",
   "execution_count": null,
   "id": "61636534-cc8b-49c9-95bf-81067b2babcb",
   "metadata": {},
   "outputs": [],
   "source": [
    "assert len(pool_1) == 3\n",
    "assert len(pool_2) == 3"
   ]
  },
  {
   "cell_type": "code",
   "execution_count": null,
   "id": "ae17050b-8337-4660-a8c6-e7834f1ddccb",
   "metadata": {},
   "outputs": [],
   "source": [
    "experiment_1 = Experiment().map(pool_1, attacker_pipeline).map(pool_2, benign_pipeline)\n",
    "experiment_2 = Experiment().map(pool_2, attacker_pipeline).map(pool_1, benign_pipeline)"
   ]
  },
  {
   "cell_type": "code",
   "execution_count": null,
   "id": "e2cbb4da-3671-41e0-955f-d11b67538dde",
   "metadata": {},
   "outputs": [],
   "source": [
    "client.prepare_experiment(experiment_1, experiment_label_1)"
   ]
  },
  {
   "cell_type": "code",
   "execution_count": null,
   "id": "aea5f38c-8586-485b-9dc1-13b834420b06",
   "metadata": {},
   "outputs": [],
   "source": [
    "client.prepare_experiment(experiment_2, experiment_label_2)"
   ]
  },
  {
   "cell_type": "code",
   "execution_count": null,
   "id": "e7a53be3-52e3-4760-a266-671db6ef28fd",
   "metadata": {},
   "outputs": [],
   "source": [
    "client.start_execution(experiment_label_1)"
   ]
  },
  {
   "cell_type": "code",
   "execution_count": null,
   "id": "8b62b543-ac8e-4517-9367-9586af01fe44",
   "metadata": {},
   "outputs": [],
   "source": [
    "client.start_execution(experiment_label_2)"
   ]
  },
  {
   "cell_type": "markdown",
   "id": "de68d117-c25e-4262-82b9-69eff86969eb",
   "metadata": {},
   "source": [
    "## Collecting from Azure infrastructure"
   ]
  },
  {
   "cell_type": "code",
   "execution_count": null,
   "id": "3baa259f-635c-40b1-a383-c4812e00fca6",
   "metadata": {},
   "outputs": [],
   "source": [
    "experiment_label_1 = 'patator-0.3.8-azure-1'\n",
    "experiment_label_2 = 'patator-0.3.8-azure-2'"
   ]
  },
  {
   "cell_type": "code",
   "execution_count": null,
   "id": "f34928e2-94a8-4994-8085-e65fc883cbc2",
   "metadata": {},
   "outputs": [],
   "source": [
    "benign_pipeline = Pipeline()\n",
    "for i in range(20):\n",
    "    (benign_pipeline\n",
    "     .then(BenignTask('http://172.174.8.19/about.html'))\n",
    "     .then(BenignTask('http://172.174.8.19:26511/health'))\n",
    "     .then(BenignTaskAsync('http://172.174.8.19/about.html'))\n",
    "     .then(BenignTaskAuthorized(experiment_label_1))\n",
    "    )\n",
    "    \n",
    "\n",
    "benign_pipeline.environment_definition.image = \"redacted\""
   ]
  },
  {
   "cell_type": "code",
   "execution_count": null,
   "id": "acaa961b-3e5e-4b71-8a1e-cd649369ae75",
   "metadata": {},
   "outputs": [],
   "source": [
    "attacker_pipeline = (\n",
    "    Pipeline()\n",
    "    .then(ShellCommand(\n",
    "        \"python ./patator.py http_fuzz \"\n",
    "        f\"url={os.environ['AZURE_VICTIM_ENDPOINT']} \"\n",
    "        \"persistent=0 user_pass=FILE0:FILE0 0=/opt/patator/passwords.txt -x ignore:code=401\"\n",
    "    ))\n",
    ")\n",
    "attacker_pipeline.environment_definition.image = \"redacted\""
   ]
  },
  {
   "cell_type": "code",
   "execution_count": null,
   "id": "9fef0a4c-1043-4d40-ab6c-046fc3c67fef",
   "metadata": {},
   "outputs": [],
   "source": [
    "experiment_1 = Experiment().map(pool_1, attacker_pipeline).map(pool_2, benign_pipeline)\n",
    "experiment_2 = Experiment().map(pool_2, attacker_pipeline).map(pool_1, benign_pipeline)"
   ]
  },
  {
   "cell_type": "code",
   "execution_count": null,
   "id": "70908ba5-a654-4cce-bc86-f5774de98d83",
   "metadata": {},
   "outputs": [],
   "source": [
    "client.prepare_experiment(experiment_1, experiment_label_1)"
   ]
  },
  {
   "cell_type": "code",
   "execution_count": null,
   "id": "9f93970d-3a0e-4ab6-b21b-b667ffeba64b",
   "metadata": {},
   "outputs": [],
   "source": [
    "client.prepare_experiment(experiment_2, experiment_label_2)"
   ]
  },
  {
   "cell_type": "code",
   "execution_count": null,
   "id": "69b76168-175a-43cf-abf7-9df54fa825f9",
   "metadata": {},
   "outputs": [],
   "source": [
    "client.start_execution(experiment_label_1)"
   ]
  },
  {
   "cell_type": "code",
   "execution_count": null,
   "id": "ceaa0c32-b19f-4469-a24e-810f659cdff0",
   "metadata": {},
   "outputs": [],
   "source": [
    "client.start_execution(experiment_label_2)"
   ]
  },
  {
   "cell_type": "code",
   "execution_count": null,
   "id": "e9e080d5-242c-4a69-b56f-062fcbd7d3e2",
   "metadata": {},
   "outputs": [],
   "source": []
  },
  {
   "cell_type": "markdown",
   "id": "17b57753-de87-4b91-8ee2-e16f637f1c28",
   "metadata": {},
   "source": [
    "## Collecting from multicloud infrastructure"
   ]
  },
  {
   "cell_type": "code",
   "execution_count": null,
   "id": "28832dbf-901c-4863-be70-b9caf00c5f4d",
   "metadata": {},
   "outputs": [],
   "source": [
    "experiment_label_1 = 'patator-0.3.9-multicloud-1'\n",
    "experiment_label_2 = 'patator-0.3.9-multicloud-2'"
   ]
  },
  {
   "cell_type": "code",
   "execution_count": null,
   "id": "4dd071c2-e115-4cd9-aec1-9a6cdf913a74",
   "metadata": {},
   "outputs": [],
   "source": [
    "benign_pipeline = Pipeline()\n",
    "for i in range(20):\n",
    "    (benign_pipeline\n",
    "     .then(BenignTask('http://172.174.8.19/about.html'))\n",
    "     .then(BenignTask('http://172.174.8.19:26511/health'))\n",
    "     .then(BenignTaskAsync('http://172.174.8.19/about.html'))\n",
    "     .then(BenignTaskAuthorized(experiment_label_1))\n",
    "    )\n",
    "    \n",
    "\n",
    "benign_pipeline.environment_definition.image = \"redacted\""
   ]
  },
  {
   "cell_type": "code",
   "execution_count": null,
   "id": "2d048432-f068-4ad9-8732-a85c3bd093df",
   "metadata": {},
   "outputs": [],
   "source": [
    "attacker_pipeline = (\n",
    "    Pipeline()\n",
    "    .then(ShellCommand(\n",
    "        \"python ./patator.py http_fuzz \"\n",
    "        f\"url={os.environ['AZURE_VICTIM_ENDPOINT']} \"\n",
    "        \"persistent=0 user_pass=FILE0:FILE0 0=/opt/patator/passwords.txt -x ignore:code=401\"\n",
    "    ))\n",
    ")\n",
    "attacker_pipeline.environment_definition.image = \"redacted\""
   ]
  },
  {
   "cell_type": "code",
   "execution_count": null,
   "id": "5d40dae7-4131-4d33-a7aa-a5db5481434d",
   "metadata": {},
   "outputs": [],
   "source": [
    "pool_1 = MinionPool([x for x in minion_pool if x.name in {\n",
    "    'netunicorn-search-aws-1',\n",
    "    'netunicorn-search-digitalocean-1',\n",
    "}])\n",
    "pool_2 = MinionPool([x for x in minion_pool if x.name in {\n",
    "    'netunicorn-search-aws-2',\n",
    "    'netunicorn-search-aws-3',\n",
    "    'netunicorn-search-digitalocean-2',\n",
    "}])"
   ]
  },
  {
   "cell_type": "code",
   "execution_count": null,
   "id": "e0f5a85d-3662-4039-ad5c-5bfcf1592548",
   "metadata": {},
   "outputs": [],
   "source": [
    "assert len(pool_1) == 2\n",
    "assert len(pool_2) == 3"
   ]
  },
  {
   "cell_type": "code",
   "execution_count": null,
   "id": "a278e9b2-9ed5-48aa-9487-b76bc77c612c",
   "metadata": {},
   "outputs": [],
   "source": [
    "experiment_1 = Experiment().map(pool_1, attacker_pipeline).map(pool_2, benign_pipeline)\n",
    "experiment_2 = Experiment().map(pool_2, attacker_pipeline).map(pool_1, benign_pipeline)"
   ]
  },
  {
   "cell_type": "code",
   "execution_count": null,
   "id": "39a80a84-9cad-4c42-bbd1-12590218ac19",
   "metadata": {},
   "outputs": [],
   "source": [
    "client.prepare_experiment(experiment_1, experiment_label_1)"
   ]
  },
  {
   "cell_type": "code",
   "execution_count": null,
   "id": "f13ad6e5-bd74-436a-85fc-3776ba3b3e74",
   "metadata": {},
   "outputs": [],
   "source": [
    "client.prepare_experiment(experiment_2, experiment_label_2)"
   ]
  },
  {
   "cell_type": "code",
   "execution_count": null,
   "id": "8169f7df-e200-4740-979a-d5e53731fed8",
   "metadata": {},
   "outputs": [],
   "source": [
    "client.start_execution(experiment_label_1)"
   ]
  },
  {
   "cell_type": "code",
   "execution_count": null,
   "id": "b21a2b7d-3f39-4d69-ac13-777d4e9241b5",
   "metadata": {},
   "outputs": [],
   "source": [
    "client.start_execution(experiment_label_2)"
   ]
  },
  {
   "cell_type": "code",
   "execution_count": null,
   "id": "ff2e8720-1154-48a1-8539-dd8af4c6f70f",
   "metadata": {},
   "outputs": [],
   "source": []
  }
 ],
 "metadata": {
  "kernelspec": {
   "display_name": "Python 3 (ipykernel)",
   "language": "python",
   "name": "python3"
  },
  "language_info": {
   "codemirror_mode": {
    "name": "ipython",
    "version": 3
   },
   "file_extension": ".py",
   "mimetype": "text/x-python",
   "name": "python",
   "nbconvert_exporter": "python",
   "pygments_lexer": "ipython3",
   "version": "3.9.0"
  }
 },
 "nbformat": 4,
 "nbformat_minor": 5
}
