{
 "cells": [
  {
   "cell_type": "markdown",
   "id": "98734773-cdff-4dda-830c-e642a08837c5",
   "metadata": {},
   "source": [
    "# Changes description compared to 0.1\n",
    "- 2 experiments instead of 1: we switch the sides of attackers and benign traffic generator to mitigate TTL issue"
   ]
  },
  {
   "cell_type": "markdown",
   "id": "580aa4dd-7024-4440-aec6-0a8da74aad68",
   "metadata": {},
   "source": [
    "## Collecting data from Campus infrastructure"
   ]
  },
  {
   "cell_type": "code",
   "execution_count": null,
   "id": "657eb616-117c-4601-9a98-7682c8a51670",
   "metadata": {},
   "outputs": [],
   "source": [
    "import sys\n",
    "sys.version"
   ]
  },
  {
   "cell_type": "code",
   "execution_count": null,
   "id": "34390fb7-ced4-435c-a44f-a407d0c7315f",
   "metadata": {},
   "outputs": [],
   "source": [
    "%load_ext dotenv\n",
    "%dotenv"
   ]
  },
  {
   "cell_type": "code",
   "execution_count": null,
   "id": "2aa438c5-7909-49b2-8cfd-8fcc341e3217",
   "metadata": {},
   "outputs": [],
   "source": [
    "import os\n",
    "\n",
    "from netunicorn.base import MinionPool, Task\n",
    "from netunicorn.base.experiment import Experiment, ExperimentStatus\n",
    "from netunicorn.base.pipeline import Pipeline\n",
    "from netunicorn.library.basic import ShellCommand\n",
    "from netunicorn.client.remote import RemoteClient"
   ]
  },
  {
   "cell_type": "code",
   "execution_count": null,
   "id": "9c48fde1-206f-4614-9ff0-3973937c18cc",
   "metadata": {},
   "outputs": [],
   "source": [
    "experiment_label_1 = 'patator-0.2.4-1'\n",
    "experiment_label_2 = 'patator-0.2.4-2'"
   ]
  },
  {
   "cell_type": "code",
   "execution_count": null,
   "id": "6c82fc9d-81c1-4698-bc4d-510312ef2263",
   "metadata": {},
   "outputs": [],
   "source": [
    "class BenignTask(Task):\n",
    "    def __init__(self, url):\n",
    "        self.url = url\n",
    "    \n",
    "    def run(self):\n",
    "        import subprocess\n",
    "        for i in range(500):\n",
    "            subprocess.check_output(f'curl {self.url}', shell=True)\n",
    "        return 0"
   ]
  },
  {
   "cell_type": "code",
   "execution_count": null,
   "id": "9c3377ab-5bbe-4264-8e71-a32392843b86",
   "metadata": {},
   "outputs": [],
   "source": [
    "attacker_pipeline = (\n",
    "    Pipeline()\n",
    "    .then(ShellCommand(\n",
    "        \"python ./patator.py http_fuzz \"\n",
    "        f\"url={os.environ['VICTIM_ENDPOINT']} \"\n",
    "        \"user_pass=FILE0:FILE0 0=/opt/patator/passwords.txt -x ignore:code=401\"\n",
    "    ))\n",
    ")\n",
    "attacker_pipeline.environment_definition.image = \"redacted\""
   ]
  },
  {
   "cell_type": "code",
   "execution_count": null,
   "id": "d9350159-b490-461c-ad5c-f4b8cf4016bc",
   "metadata": {},
   "outputs": [],
   "source": [
    "benign_pipeline = Pipeline()\n",
    "benign_pipeline.then(BenignTask('redacted'))\n",
    "benign_pipeline.then(BenignTask('redacted'))\n",
    "\n",
    "benign_pipeline.environment_definition.image = \"redacted\""
   ]
  },
  {
   "cell_type": "code",
   "execution_count": null,
   "id": "0a375f7f-ce05-4a19-85e8-1f978563a893",
   "metadata": {},
   "outputs": [],
   "source": [
    "client = RemoteClient(\n",
    "    endpoint=os.environ['UNICORN_ENDPOINT'],\n",
    "    login=os.environ['UNICORN_LOGIN'],\n",
    "    password=os.environ['UNICORN_PASSWORD']\n",
    ")"
   ]
  },
  {
   "cell_type": "code",
   "execution_count": null,
   "id": "2af57e8f-153e-4879-aff9-0990da43c07b",
   "metadata": {},
   "outputs": [],
   "source": [
    "minion_pool = client.get_minion_pool()"
   ]
  },
  {
   "cell_type": "code",
   "execution_count": null,
   "id": "9e947924-3ba3-4a8b-bfc5-9a7beee801aa",
   "metadata": {},
   "outputs": [],
   "source": [
    "pool_1 = MinionPool([x for x in minion_pool if x.name in {\n",
    "    'raspi-e4:5f:01:56:d9:a3',\n",
    "    'raspi-e4:5f:01:75:6b:2c',\n",
    "    'raspi-e4:5f:01:72:a2:eb',\n",
    "    'raspi-e4:5f:01:56:d8:fc',\n",
    "}])\n",
    "\n",
    "pool_2 = MinionPool([x for x in minion_pool if x.name in {\n",
    "    'raspi-dc:a6:32:d7:6e:64',\n",
    "    'raspi-e4:5f:01:56:d9:73',\n",
    "    'raspi-e4:5f:01:56:d9:8b'\n",
    "}])"
   ]
  },
  {
   "cell_type": "code",
   "execution_count": null,
   "id": "ae17050b-8337-4660-a8c6-e7834f1ddccb",
   "metadata": {},
   "outputs": [],
   "source": [
    "experiment_1 = Experiment().map(pool_1, attacker_pipeline).map(pool_2, benign_pipeline)\n",
    "experiment_2 = Experiment().map(pool_2, attacker_pipeline).map(pool_1, benign_pipeline)"
   ]
  },
  {
   "cell_type": "code",
   "execution_count": null,
   "id": "e2cbb4da-3671-41e0-955f-d11b67538dde",
   "metadata": {},
   "outputs": [],
   "source": [
    "client.prepare_experiment(experiment_1, experiment_label_1)"
   ]
  },
  {
   "cell_type": "code",
   "execution_count": null,
   "id": "aea5f38c-8586-485b-9dc1-13b834420b06",
   "metadata": {},
   "outputs": [],
   "source": [
    "client.prepare_experiment(experiment_2, experiment_label_2)"
   ]
  },
  {
   "cell_type": "code",
   "execution_count": null,
   "id": "e7a53be3-52e3-4760-a266-671db6ef28fd",
   "metadata": {},
   "outputs": [],
   "source": [
    "client.start_execution(experiment_label_1)"
   ]
  },
  {
   "cell_type": "code",
   "execution_count": null,
   "id": "8b62b543-ac8e-4517-9367-9586af01fe44",
   "metadata": {},
   "outputs": [],
   "source": [
    "client.start_execution(experiment_label_2)"
   ]
  },
  {
   "cell_type": "markdown",
   "id": "de68d117-c25e-4262-82b9-69eff86969eb",
   "metadata": {},
   "source": [
    "## Collecting from Azure infrastructure"
   ]
  },
  {
   "cell_type": "code",
   "execution_count": null,
   "id": "3baa259f-635c-40b1-a383-c4812e00fca6",
   "metadata": {},
   "outputs": [],
   "source": [
    "experiment_label_1 = 'patator-0.2.1-azure-1'\n",
    "experiment_label_2 = 'patator-0.2.1-azure-2'"
   ]
  },
  {
   "cell_type": "code",
   "execution_count": null,
   "id": "5c37a0f5-7761-4c30-ba4e-56bc17c09876",
   "metadata": {},
   "outputs": [],
   "source": [
    "benign_pipeline = Pipeline()\n",
    "benign_pipeline.then(BenignTask('http://172.174.8.19/about.html'))\n",
    "benign_pipeline.then(BenignTask('http://172.174.8.19:26511/health'))\n",
    "\n",
    "benign_pipeline.environment_definition.image = \"redacted\""
   ]
  },
  {
   "cell_type": "code",
   "execution_count": null,
   "id": "acaa961b-3e5e-4b71-8a1e-cd649369ae75",
   "metadata": {},
   "outputs": [],
   "source": [
    "attacker_pipeline = (\n",
    "    Pipeline()\n",
    "    .then(ShellCommand(\n",
    "        \"python ./patator.py http_fuzz \"\n",
    "        f\"url={os.environ['AZURE_VICTIM_ENDPOINT']} \"\n",
    "        \"user_pass=FILE0:FILE0 0=/opt/patator/passwords.txt -x ignore:code=401\"\n",
    "    ))\n",
    ")\n",
    "attacker_pipeline.environment_definition.image = \"redacted\""
   ]
  },
  {
   "cell_type": "code",
   "execution_count": null,
   "id": "9fef0a4c-1043-4d40-ab6c-046fc3c67fef",
   "metadata": {},
   "outputs": [],
   "source": [
    "experiment_1 = Experiment().map(pool_1, attacker_pipeline).map(pool_2, benign_pipeline)\n",
    "experiment_2 = Experiment().map(pool_2, attacker_pipeline).map(pool_1, benign_pipeline)"
   ]
  },
  {
   "cell_type": "code",
   "execution_count": null,
   "id": "70908ba5-a654-4cce-bc86-f5774de98d83",
   "metadata": {},
   "outputs": [],
   "source": [
    "client.prepare_experiment(experiment_1, experiment_label_1)"
   ]
  },
  {
   "cell_type": "code",
   "execution_count": null,
   "id": "9f93970d-3a0e-4ab6-b21b-b667ffeba64b",
   "metadata": {},
   "outputs": [],
   "source": [
    "client.prepare_experiment(experiment_2, experiment_label_2)"
   ]
  },
  {
   "cell_type": "code",
   "execution_count": null,
   "id": "69b76168-175a-43cf-abf7-9df54fa825f9",
   "metadata": {},
   "outputs": [],
   "source": [
    "client.start_execution(experiment_label_1)"
   ]
  },
  {
   "cell_type": "code",
   "execution_count": null,
   "id": "ceaa0c32-b19f-4469-a24e-810f659cdff0",
   "metadata": {},
   "outputs": [],
   "source": [
    "client.start_execution(experiment_label_2)"
   ]
  },
  {
   "cell_type": "markdown",
   "id": "69568e29-8b2b-4b4b-8e4c-a62649f32cbb",
   "metadata": {},
   "source": [
    "## Collecting from multicloud infrastructure"
   ]
  },
  {
   "cell_type": "code",
   "execution_count": null,
   "id": "fab717f5-290d-4772-8485-d4e9c0c6cb64",
   "metadata": {},
   "outputs": [],
   "source": [
    "pool_1 = MinionPool([x for x in minion_pool if x.name in {\n",
    "    'netunicorn-search-aws-1',\n",
    "    'netunicorn-search-digitalocean-1',\n",
    "}])\n",
    "pool_2 = MinionPool([x for x in minion_pool if x.name in {\n",
    "    'netunicorn-search-aws-2',\n",
    "    'netunicorn-search-aws-3',\n",
    "    'netunicorn-search-digitalocean-2',\n",
    "}])"
   ]
  },
  {
   "cell_type": "code",
   "execution_count": null,
   "id": "8c30f0fc-7518-42b5-b36a-d06260801ec4",
   "metadata": {},
   "outputs": [],
   "source": [
    "assert len(pool_1) == 2\n",
    "assert len(pool_2) == 3"
   ]
  },
  {
   "cell_type": "code",
   "execution_count": null,
   "id": "8d4d66f6-bbf9-43fb-b1a0-01b436a3caff",
   "metadata": {},
   "outputs": [],
   "source": [
    "experiment_label_1 = 'patator-0.2.6-multicloud-1'\n",
    "experiment_label_2 = 'patator-0.2.6-multicloud-2'"
   ]
  },
  {
   "cell_type": "code",
   "execution_count": null,
   "id": "22378ffd-cb39-4a08-bc70-62ce6429e8bb",
   "metadata": {},
   "outputs": [],
   "source": [
    "benign_pipeline = Pipeline()\n",
    "benign_pipeline.then(BenignTask('http://172.174.8.19/about.html'))\n",
    "benign_pipeline.then(BenignTask('http://172.174.8.19:26511/health'))\n",
    "\n",
    "benign_pipeline.environment_definition.image = \"redacted\""
   ]
  },
  {
   "cell_type": "code",
   "execution_count": null,
   "id": "22f149c5-d267-4fa8-ab28-0546662da3d8",
   "metadata": {},
   "outputs": [],
   "source": [
    "attacker_pipeline = (\n",
    "    Pipeline()\n",
    "    .then(ShellCommand(\n",
    "        \"python ./patator.py http_fuzz \"\n",
    "        f\"url={os.environ['AZURE_VICTIM_ENDPOINT']} \"\n",
    "        \"user_pass=FILE0:FILE0 0=/opt/patator/passwords.txt -x ignore:code=401\"\n",
    "    ))\n",
    ")\n",
    "attacker_pipeline.environment_definition.image = \"redacted\""
   ]
  },
  {
   "cell_type": "code",
   "execution_count": null,
   "id": "db3cdfa3-b3ee-491e-af0f-fc68cdeaf0ff",
   "metadata": {},
   "outputs": [],
   "source": [
    "experiment_1 = Experiment().map(pool_1, attacker_pipeline).map(pool_2, benign_pipeline)\n",
    "experiment_2 = Experiment().map(pool_2, attacker_pipeline).map(pool_1, benign_pipeline)"
   ]
  },
  {
   "cell_type": "code",
   "execution_count": null,
   "id": "f773452e-bcc8-4d7e-8a65-3a5547563f81",
   "metadata": {},
   "outputs": [],
   "source": [
    "client.prepare_experiment(experiment_1, experiment_label_1)"
   ]
  },
  {
   "cell_type": "code",
   "execution_count": null,
   "id": "be43419f-09f0-44fa-8262-fb319fd887dd",
   "metadata": {},
   "outputs": [],
   "source": [
    "client.prepare_experiment(experiment_2, experiment_label_2)"
   ]
  },
  {
   "cell_type": "code",
   "execution_count": null,
   "id": "f18d0c23-eaa7-4d8e-967d-dc9915426f7d",
   "metadata": {},
   "outputs": [],
   "source": [
    "client.start_execution(experiment_label_1)"
   ]
  },
  {
   "cell_type": "code",
   "execution_count": null,
   "id": "70fc1c3c-b0cf-4e35-b99f-bae3a0a71e47",
   "metadata": {},
   "outputs": [],
   "source": [
    "client.start_execution(experiment_label_2)"
   ]
  },
  {
   "cell_type": "code",
   "execution_count": null,
   "id": "ffb29281-cbde-4098-81ab-5438ea95904d",
   "metadata": {},
   "outputs": [],
   "source": []
  }
 ],
 "metadata": {
  "kernelspec": {
   "display_name": "Python 3 (ipykernel)",
   "language": "python",
   "name": "python3"
  },
  "language_info": {
   "codemirror_mode": {
    "name": "ipython",
    "version": 3
   },
   "file_extension": ".py",
   "mimetype": "text/x-python",
   "name": "python",
   "nbconvert_exporter": "python",
   "pygments_lexer": "ipython3",
   "version": "3.9.0"
  }
 },
 "nbformat": 4,
 "nbformat_minor": 5
}
