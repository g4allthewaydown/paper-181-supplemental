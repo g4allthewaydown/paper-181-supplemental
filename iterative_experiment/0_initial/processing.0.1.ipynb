{
 "cells": [
  {
   "cell_type": "code",
   "execution_count": null,
   "id": "146ebbad-088c-4284-b641-a8cae527bc2b",
   "metadata": {},
   "outputs": [],
   "source": [
    "import pandas as pd\n",
    "from sklearn.tree import DecisionTreeClassifier, plot_tree\n",
    "from sklearn import metrics\n",
    "import matplotlib.pyplot as plt\n",
    "import numpy as np\n",
    "\n",
    "from trustee import ClassificationTrustee"
   ]
  },
  {
   "cell_type": "code",
   "execution_count": null,
   "id": "a971da4c-30cd-4dc9-9882-b170d7c93b21",
   "metadata": {},
   "outputs": [],
   "source": [
    "attacker_ips = {\n",
    "    '169.231.210.93',\n",
    "    '169.231.28.232',\n",
    "    '169.231.123.195',\n",
    "    '169.231.172.165',\n",
    "    '169.231.11.193',\n",
    "    '169.231.8.190',\n",
    "    '169.231.10.199',\n",
    "}"
   ]
  },
  {
   "cell_type": "code",
   "execution_count": null,
   "id": "07dd19a1-6b84-466d-a155-c3b82385f2a1",
   "metadata": {},
   "outputs": [],
   "source": [
    "campus_dataset = pd.read_csv('campus_dataset_1.csv')\n",
    "campus_dataset['Class'] = 0\n",
    "campus_dataset.loc[campus_dataset['Src IP'].isin(attacker_ips), 'Class'] = 1\n",
    "\n",
    "print(len(campus_dataset))\n",
    "ttl_data = pd.read_csv('campus_ttl_1.csv')\n",
    "campus_dataset = campus_dataset.merge(ttl_data, on=\"Flow ID\", how='left')\n",
    "len(campus_dataset)"
   ]
  },
  {
   "cell_type": "code",
   "execution_count": null,
   "id": "1189c545-c5ec-4e28-b13b-20b74c8ccd62",
   "metadata": {
    "tags": []
   },
   "outputs": [],
   "source": [
    "campus_dataset = campus_dataset.drop([\n",
    "    'Flow ID',\n",
    "    'Src IP',\n",
    "    'Dst IP',\n",
    "    'Timestamp', \n",
    "    'Protocol',    # always tcp\n",
    "    'Label',       # empty\n",
    "], axis=1)"
   ]
  },
  {
   "cell_type": "code",
   "execution_count": null,
   "id": "fe11c75f-9a58-42e9-a630-8b9b709fcb7f",
   "metadata": {},
   "outputs": [],
   "source": [
    "azure_dataset = pd.read_csv('azure_dataset_1.csv')\n",
    "azure_dataset['Class'] = 0\n",
    "azure_dataset.loc[azure_dataset['Src IP'].isin(attacker_ips), 'Class'] = 1\n",
    "ttl_df_azure = pd.read_csv('azure_ttl_1.csv')\n",
    "azure_dataset = azure_dataset.merge(ttl_df_azure, on=\"Flow ID\", how='left')\n",
    "azure_dataset = azure_dataset.replace([np.inf, -np.inf], np.nan)\n",
    "azure_dataset = azure_dataset.dropna(axis=0)"
   ]
  },
  {
   "cell_type": "code",
   "execution_count": null,
   "id": "bd0662ee-a70c-4f5c-939a-24b4bcb157f7",
   "metadata": {},
   "outputs": [],
   "source": [
    "attacker_ips = {\n",
    "    '157.245.108.149',\n",
    "    '34.214.149.122',\n",
    "}\n",
    "\n",
    "multicloud_dataset = pd.read_csv('multicloud_dataset_1.csv')\n",
    "multicloud_dataset['Class'] = 0\n",
    "multicloud_dataset.loc[multicloud_dataset['Src IP'].isin(attacker_ips), 'Class'] = 1\n",
    "ttl_df_multicloud = pd.read_csv('multicloud_ttl_1.csv')\n",
    "multicloud_dataset = multicloud_dataset.merge(ttl_df_multicloud, on=\"Flow ID\", how='left')\n",
    "multicloud_dataset = multicloud_dataset.replace([np.inf, -np.inf], np.nan)\n",
    "multicloud_dataset = multicloud_dataset.dropna(axis=0)"
   ]
  },
  {
   "cell_type": "code",
   "execution_count": null,
   "id": "8ecf158b-7e3f-4296-b94d-299fb39f0ee7",
   "metadata": {},
   "outputs": [],
   "source": [
    "from sklearn.neural_network import MLPClassifier\n",
    "from sklearn.ensemble import RandomForestClassifier\n",
    "from sklearn.ensemble import GradientBoostingClassifier"
   ]
  },
  {
   "cell_type": "markdown",
   "id": "4471db9a-66ac-43e5-b84c-afe02a220ee9",
   "metadata": {},
   "source": [
    "Train on campus dataset, check on Azure and multicloud"
   ]
  },
  {
   "cell_type": "code",
   "execution_count": null,
   "id": "c767e132-2815-421c-99dd-04d661636225",
   "metadata": {},
   "outputs": [],
   "source": [
    "target_variable = 'Class'\n",
    "features = list(set(campus_dataset.columns) - {target_variable})\n",
    "x_train = campus_dataset[features]\n",
    "y_train = campus_dataset[target_variable]\n",
    "x_test = azure_dataset[features]\n",
    "y_test = azure_dataset[target_variable]\n",
    "x_test_2 = multicloud_dataset[features]\n",
    "y_test_2 = multicloud_dataset[target_variable]"
   ]
  },
  {
   "cell_type": "code",
   "execution_count": null,
   "id": "3c4c288b-b1e7-4395-aa5d-5e00859f8db8",
   "metadata": {},
   "outputs": [],
   "source": [
    "from sklearn.preprocessing import StandardScaler\n",
    "\n",
    "x_train = pd.DataFrame(StandardScaler().fit_transform(x_train), columns = x_train.columns)\n",
    "x_test = pd.DataFrame(StandardScaler().fit_transform(x_test), columns = x_test.columns)\n",
    "x_test_2 = pd.DataFrame(StandardScaler().fit_transform(x_test_2), columns = x_test_2.columns)"
   ]
  },
  {
   "cell_type": "code",
   "execution_count": null,
   "id": "715b421b-f0d8-4201-97fe-849766c32288",
   "metadata": {},
   "outputs": [],
   "source": [
    "classifiers = [\n",
    "    MLPClassifier(),\n",
    "    GradientBoostingClassifier(),\n",
    "    RandomForestClassifier(),\n",
    "]"
   ]
  },
  {
   "cell_type": "code",
   "execution_count": null,
   "id": "1b99df0e-9e23-4847-80a3-0973e614b44e",
   "metadata": {
    "tags": []
   },
   "outputs": [],
   "source": [
    "for clf in classifiers:\n",
    "    print(clf)\n",
    "    clf.fit(x_train, y_train)\n",
    "    y_pred = clf.predict(x_train)\n",
    "    print(\"campus dataset training accuracy: \")\n",
    "    print(metrics.classification_report(y_train, y_pred))\n",
    "\n",
    "    print(\"Azure dataset test accuracy: \")\n",
    "    y_pred = clf.predict(x_test)\n",
    "    print(metrics.classification_report(y_test, y_pred))\n",
    "    print(metrics.confusion_matrix(y_test, y_pred))\n",
    "    \n",
    "    print(\"Multicloud dataset test accuracy: \")\n",
    "    y_pred = clf.predict(x_test_2)\n",
    "    print(metrics.classification_report(y_test_2, y_pred))\n",
    "    print(metrics.confusion_matrix(y_test_2, y_pred))\n",
    "    print('#' * 10 + '\\n')"
   ]
  },
  {
   "cell_type": "markdown",
   "id": "9d237c25-98e6-4087-ae17-fdd8a67ffdfa",
   "metadata": {},
   "source": [
    "Let's explore the reasons of this performance"
   ]
  },
  {
   "cell_type": "code",
   "execution_count": null,
   "id": "821be572-c6b7-46fd-8c03-e5f6f5e75622",
   "metadata": {
    "tags": []
   },
   "outputs": [],
   "source": [
    "from sklearn.tree import DecisionTreeClassifier\n",
    "clf = DecisionTreeClassifier()\n",
    "clf.fit(x_train, y_train)\n",
    "\n",
    "y_pred = clf.predict(x_train)\n",
    "print(\"campus dataset training accuracy: \")\n",
    "print(metrics.classification_report(y_train, y_pred))\n",
    "\n",
    "y_pred = clf.predict(x_test)\n",
    "print(\"Azure dataset test accuracy: \")\n",
    "print(metrics.classification_report(y_test, y_pred))\n",
    "print(metrics.confusion_matrix(y_test, y_pred))\n",
    "\n",
    "y_pred = clf.predict(x_test_2)\n",
    "print(\"Multicloud dataset test accuracy: \")\n",
    "print(metrics.classification_report(y_test_2, y_pred))\n",
    "print(metrics.confusion_matrix(y_test_2, y_pred))\n",
    "\n",
    "fig = plt.figure(figsize=(25,20))\n",
    "_ = plot_tree(clf, feature_names=x_train.columns, class_names=['benign', 'attack'], filled=True, max_depth=2)"
   ]
  },
  {
   "cell_type": "markdown",
   "id": "f10d611b-b13e-4bca-b772-02af11ff1ecb",
   "metadata": {},
   "source": [
    "The answer is a shortcut in the dataset - usage of TTL as a feature.  \n",
    "Random forests choose features randomly and therefore often remove TTL from the list and doesn't overfit to it.  \n",
    "\n",
    "Anyway, TTL is a plain shortcut, let's remove it."
   ]
  },
  {
   "cell_type": "markdown",
   "id": "995004bc-b2be-4a14-b911-a2e60e94a574",
   "metadata": {},
   "source": [
    "## Out of curiosity - dropping or noising the features\n",
    "Use information from the future - we know that TTL and Init Win Bytes are or would be shortcuts, so let's add some noise there or drop them and check performance."
   ]
  },
  {
   "cell_type": "code",
   "execution_count": null,
   "id": "5d9ff9fc-38db-4d7c-9b7a-ffa22b76fbb4",
   "metadata": {},
   "outputs": [],
   "source": [
    "target_variable = 'Class'\n",
    "features = list(set(campus_dataset.columns) - {target_variable})\n",
    "x_train = campus_dataset[features].copy()\n",
    "y_train = campus_dataset[target_variable]\n",
    "x_test = azure_dataset[features]\n",
    "y_test = azure_dataset[target_variable]\n",
    "x_test_2 = multicloud_dataset[features]\n",
    "y_test_2 = multicloud_dataset[target_variable]"
   ]
  },
  {
   "cell_type": "code",
   "execution_count": null,
   "id": "66a1e557-3068-4030-bd2f-f9ca51c3e9a6",
   "metadata": {},
   "outputs": [],
   "source": [
    "x_train.loc[:, 'TTL'] += np.random.randint(-1, 1, [len(x_train)])\n",
    "x_train.loc[:, 'Bwd Init Win Bytes'] += np.random.randint(-5, 5, [len(x_train)])"
   ]
  },
  {
   "cell_type": "code",
   "execution_count": null,
   "id": "323013c2-e122-4e99-a110-d65c5a657cf6",
   "metadata": {},
   "outputs": [],
   "source": [
    "x_train = pd.DataFrame(StandardScaler().fit_transform(x_train), columns = x_train.columns)\n",
    "x_test = pd.DataFrame(StandardScaler().fit_transform(x_test), columns = x_test.columns)\n",
    "x_test_2 = pd.DataFrame(StandardScaler().fit_transform(x_test_2), columns = x_test_2.columns)"
   ]
  },
  {
   "cell_type": "code",
   "execution_count": null,
   "id": "02279856-73fe-4fe5-981b-f32ca4006811",
   "metadata": {},
   "outputs": [],
   "source": [
    "classifiers = [\n",
    "    MLPClassifier(),\n",
    "    GradientBoostingClassifier(),\n",
    "    RandomForestClassifier(),\n",
    "]\n",
    "for clf in classifiers:\n",
    "    print(clf)\n",
    "    clf.fit(x_train, y_train)\n",
    "    y_pred = clf.predict(x_train)\n",
    "    print(\"campus dataset training accuracy: \")\n",
    "    print(metrics.classification_report(y_train, y_pred))\n",
    "\n",
    "    print(\"Azure dataset test accuracy: \")\n",
    "    y_pred = clf.predict(x_test)\n",
    "    print(metrics.classification_report(y_test, y_pred))\n",
    "    print(metrics.confusion_matrix(y_test, y_pred))\n",
    "    \n",
    "    print(\"Multicloud dataset test accuracy: \")\n",
    "    y_pred = clf.predict(x_test_2)\n",
    "    print(metrics.classification_report(y_test_2, y_pred))\n",
    "    print(metrics.confusion_matrix(y_test_2, y_pred))\n",
    "    print('#' * 10 + '\\n')"
   ]
  },
  {
   "cell_type": "markdown",
   "id": "2dc9d741-3da3-4f91-b2a9-c3923d569f6d",
   "metadata": {},
   "source": [
    "### Or let's just drop them"
   ]
  },
  {
   "cell_type": "code",
   "execution_count": null,
   "id": "c712a3bd-03e8-47b7-985d-fd54456d031d",
   "metadata": {},
   "outputs": [],
   "source": [
    "x_train = x_train.drop(['TTL', 'Bwd Init Win Bytes'], axis=1)\n",
    "x_test = x_test.drop(['TTL', 'Bwd Init Win Bytes'], axis=1)\n",
    "x_test_2 = x_test_2.drop(['TTL', 'Bwd Init Win Bytes'], axis=1)"
   ]
  },
  {
   "cell_type": "code",
   "execution_count": null,
   "id": "41e66729-7b8d-4278-8eb9-2ec3970f174b",
   "metadata": {
    "tags": []
   },
   "outputs": [],
   "source": [
    "classifiers = [\n",
    "    MLPClassifier(),\n",
    "    GradientBoostingClassifier(),\n",
    "    RandomForestClassifier(max_depth=4),\n",
    "]\n",
    "for clf in classifiers:\n",
    "    print(clf)\n",
    "    clf.fit(x_train, y_train)\n",
    "    y_pred = clf.predict(x_train)\n",
    "    print(\"campus dataset training accuracy: \")\n",
    "    print(metrics.classification_report(y_train, y_pred))\n",
    "\n",
    "    print(\"Azure dataset test accuracy: \")\n",
    "    y_pred = clf.predict(x_test)\n",
    "    print(metrics.classification_report(y_test, y_pred))\n",
    "    print(metrics.confusion_matrix(y_test, y_pred))\n",
    "    \n",
    "    print(\"Multicloud dataset test accuracy: \")\n",
    "    y_pred = clf.predict(x_test_2)\n",
    "    print(metrics.classification_report(y_test_2, y_pred))\n",
    "    print(metrics.confusion_matrix(y_test_2, y_pred))\n",
    "    print('#' * 10 + '\\n')"
   ]
  },
  {
   "cell_type": "code",
   "execution_count": null,
   "id": "28014788-ddfa-4ebb-a0a8-a6eb75700681",
   "metadata": {},
   "outputs": [],
   "source": [
    "trustee = ClassificationTrustee(expert=classifiers[0])\n",
    "trustee.fit(x_train, y_train, num_iter=10, num_stability_iter=3, samples_size=0.8)\n",
    "\n",
    "_, dt, _, score = trustee.explain()\n",
    "print(f\"Training score of pruned DT: {score}\")\n",
    "dt_y_pred = dt.predict(x_test)\n",
    "\n",
    "print(\"Model explanation global fidelity report:\")\n",
    "print(metrics.classification_report(classifiers[0].predict(x_test), dt_y_pred))\n",
    "print(\"Model explanation score report:\")\n",
    "print(metrics.classification_report(y_test, dt_y_pred))\n",
    "\n",
    "fig = plt.figure(figsize=(25,20))\n",
    "plot_tree(dt, feature_names=x_train.columns, class_names=['benign', 'attack'], filled=True, max_depth=3)"
   ]
  },
  {
   "cell_type": "code",
   "execution_count": null,
   "id": "c3ddcef1-f076-4cbb-a7f5-7554710563cf",
   "metadata": {},
   "outputs": [],
   "source": []
  }
 ],
 "metadata": {
  "kernelspec": {
   "display_name": "Python 3 (ipykernel)",
   "language": "python",
   "name": "python3"
  },
  "language_info": {
   "codemirror_mode": {
    "name": "ipython",
    "version": 3
   },
   "file_extension": ".py",
   "mimetype": "text/x-python",
   "name": "python",
   "nbconvert_exporter": "python",
   "pygments_lexer": "ipython3",
   "version": "3.9.0"
  }
 },
 "nbformat": 4,
 "nbformat_minor": 5
}
