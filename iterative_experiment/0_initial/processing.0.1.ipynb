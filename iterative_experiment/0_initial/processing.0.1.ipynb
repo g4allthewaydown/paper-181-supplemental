{
 "cells": [
  {
   "cell_type": "code",
   "execution_count": null,
   "id": "146ebbad-088c-4284-b641-a8cae527bc2b",
   "metadata": {
    "tags": []
   },
   "outputs": [],
   "source": [
    "import pandas as pd\n",
    "from sklearn.tree import DecisionTreeClassifier, plot_tree\n",
    "from sklearn import metrics\n",
    "import matplotlib.pyplot as plt\n",
    "import numpy as np\n",
    "\n",
    "from trustee import ClassificationTrustee"
   ]
  },
  {
   "cell_type": "code",
   "execution_count": null,
   "id": "a971da4c-30cd-4dc9-9882-b170d7c93b21",
   "metadata": {
    "tags": []
   },
   "outputs": [],
   "source": [
    "attacker_ips = {\n",
    "    '169.231.210.93',\n",
    "    '169.231.28.232',\n",
    "    '169.231.123.195',\n",
    "    '169.231.172.165',\n",
    "    '169.231.11.193',\n",
    "    '169.231.8.190',\n",
    "    '169.231.10.199',\n",
    "}"
   ]
  },
  {
   "cell_type": "code",
   "execution_count": null,
   "id": "07dd19a1-6b84-466d-a155-c3b82385f2a1",
   "metadata": {
    "tags": []
   },
   "outputs": [],
   "source": [
    "campus_dataset = pd.read_csv('campus_dataset_1.csv')\n",
    "campus_dataset['Class'] = 0\n",
    "campus_dataset.loc[campus_dataset['Src IP'].isin(attacker_ips), 'Class'] = 1\n",
    "\n",
    "print(len(campus_dataset))\n",
    "ttl_data = pd.read_csv('campus_ttl_1.csv')\n",
    "campus_dataset = campus_dataset.merge(ttl_data, on=\"Flow ID\", how='left')\n",
    "len(campus_dataset)"
   ]
  },
  {
   "cell_type": "code",
   "execution_count": null,
   "id": "1189c545-c5ec-4e28-b13b-20b74c8ccd62",
   "metadata": {
    "tags": []
   },
   "outputs": [],
   "source": [
    "campus_dataset = campus_dataset.drop([\n",
    "    'Flow ID',\n",
    "    'Src IP',\n",
    "    'Dst IP',\n",
    "    'Timestamp', \n",
    "    'Protocol',    # always tcp\n",
    "    'Label',       # empty\n",
    "], axis=1)"
   ]
  },
  {
   "cell_type": "code",
   "execution_count": null,
   "id": "fe11c75f-9a58-42e9-a630-8b9b709fcb7f",
   "metadata": {
    "tags": []
   },
   "outputs": [],
   "source": [
    "azure_dataset = pd.read_csv('azure_dataset_1.csv')\n",
    "azure_dataset['Class'] = 0\n",
    "azure_dataset.loc[azure_dataset['Src IP'].isin(attacker_ips), 'Class'] = 1\n",
    "ttl_df_azure = pd.read_csv('azure_ttl_1.csv')\n",
    "azure_dataset = azure_dataset.merge(ttl_df_azure, on=\"Flow ID\", how='left')\n",
    "azure_dataset = azure_dataset.replace([np.inf, -np.inf], np.nan)\n",
    "azure_dataset = azure_dataset.dropna(axis=0)"
   ]
  },
  {
   "cell_type": "code",
   "execution_count": null,
   "id": "bd0662ee-a70c-4f5c-939a-24b4bcb157f7",
   "metadata": {
    "tags": []
   },
   "outputs": [],
   "source": [
    "attacker_ips = {\n",
    "    '157.245.108.149',\n",
    "    '34.214.149.122',\n",
    "}\n",
    "\n",
    "multicloud_dataset = pd.read_csv('multicloud_dataset_1.csv')\n",
    "multicloud_dataset['Class'] = 0\n",
    "multicloud_dataset.loc[multicloud_dataset['Src IP'].isin(attacker_ips), 'Class'] = 1\n",
    "ttl_df_multicloud = pd.read_csv('multicloud_ttl_1.csv')\n",
    "multicloud_dataset = multicloud_dataset.merge(ttl_df_multicloud, on=\"Flow ID\", how='left')\n",
    "multicloud_dataset = multicloud_dataset.replace([np.inf, -np.inf], np.nan)\n",
    "multicloud_dataset = multicloud_dataset.dropna(axis=0)"
   ]
  },
  {
   "cell_type": "code",
   "execution_count": null,
   "id": "d7d8e90e-393b-4571-8f71-f5f6a51b79f0",
   "metadata": {
    "tags": []
   },
   "outputs": [],
   "source": [
    "# CIC-IDS-2018\n",
    "dpath = \"~/data/ids2018/Wednesday-14-02-2018_TrafficForML_CICFlowMeter.csv\"\n",
    "cic_dataset = pd.read_csv(dpath)"
   ]
  },
  {
   "cell_type": "code",
   "execution_count": null,
   "id": "34d8a5b3-1bee-4cbe-9de8-4ff04292d1b2",
   "metadata": {
    "tags": []
   },
   "outputs": [],
   "source": [
    "features_rename = {\n",
    "    'Fwd Pkts/b Avg': 'Fwd Packet/Bulk Avg',\n",
    "    'Flow Byts/s': 'Flow Bytes/s',\n",
    "    'Tot Fwd Pkts': 'Total Fwd Packet',\n",
    "    'Pkt Size Avg': 'Average Packet Size',\n",
    "    'Fwd Byts/b Avg': 'Fwd Bytes/Bulk Avg',\n",
    "    'Fwd Pkts/s': 'Fwd Packets/s',\n",
    "    'Bwd Pkt Len Max': 'Bwd Packet Length Max',\n",
    "    'Fwd Header Len': 'Fwd Header Length',\n",
    "    'Flow Pkts/s': 'Flow Packets/s',\n",
    "    'Fwd Pkt Len Min': 'Fwd Packet Length Min',\n",
    "    'RST Flag Cnt': 'RST Flag Count',\n",
    "    'ECE Flag Cnt': 'ECE Flag Count',\n",
    "    'Subflow Fwd Byts': 'Subflow Fwd Bytes',\n",
    "    'Subflow Bwd Pkts': 'Subflow Bwd Packets',\n",
    "    'TotLen Bwd Pkts': 'Total Length of Bwd Packet',\n",
    "    'Bwd Header Len': 'Bwd Header Length',\n",
    "    'Pkt Len Std': 'Packet Length Std',\n",
    "    'Subflow Bwd Byts': 'Subflow Bwd Bytes',\n",
    "    'Pkt Len Min': 'Packet Length Min',\n",
    "    'TotLen Fwd Pkts': 'Total Length of Fwd Packet',\n",
    "    'Pkt Len Var': 'Packet Length Variance',\n",
    "    'Subflow Fwd Pkts': 'Subflow Fwd Packets',\n",
    "    'Fwd Blk Rate Avg': 'Fwd Bulk Rate Avg',\n",
    "    'Bwd Pkt Len Mean': 'Bwd Packet Length Mean',\n",
    "    'Bwd Seg Size Avg': 'Bwd Segment Size Avg',\n",
    "    'Bwd Pkts/s': 'Bwd Packets/s',\n",
    "    'URG Flag Cnt': 'URG Flag Count',\n",
    "    'FIN Flag Cnt': 'FIN Flag Count',\n",
    "    'ACK Flag Cnt': 'ACK Flag Count',\n",
    "    'Init Bwd Win Byts': 'Bwd Init Win Bytes',\n",
    "    'Fwd Seg Size Avg': 'Fwd Segment Size Avg',\n",
    "    'Init Fwd Win Byts': 'FWD Init Win Bytes',\n",
    "    'Fwd IAT Tot': 'Fwd IAT Total',\n",
    "    'Bwd Pkt Len Std': 'Bwd Packet Length Std',\n",
    "    'Bwd Byts/b Avg': 'Bwd Bytes/Bulk Avg',\n",
    "    'Fwd Pkt Len Std': 'Fwd Packet Length Std',\n",
    "    'Pkt Len Max': 'Packet Length Max',\n",
    "    'Bwd Pkt Len Min': 'Bwd Packet Length Min',\n",
    "    'Tot Bwd Pkts': 'Total Bwd packets',\n",
    "    'Fwd Pkt Len Max': 'Fwd Packet Length Max',\n",
    "    'Bwd Pkts/b Avg': 'Bwd Packet/Bulk Avg',\n",
    "    'Fwd Pkt Len Mean': 'Fwd Packet Length Mean',\n",
    "    'PSH Flag Cnt': 'PSH Flag Count',\n",
    "    'Bwd IAT Tot': 'Bwd IAT Total',\n",
    "    'SYN Flag Cnt': 'SYN Flag Count',\n",
    "    'Pkt Len Mean': 'Packet Length Mean',\n",
    "    'Bwd Blk Rate Avg': 'Bwd Bulk Rate Avg',\n",
    "    'CWE Flag Count': 'CWR Flag Count',\n",
    "}"
   ]
  },
  {
   "cell_type": "code",
   "execution_count": null,
   "id": "d9c89e83-c014-44ea-9815-9a063dc215cf",
   "metadata": {
    "tags": []
   },
   "outputs": [],
   "source": [
    "cic_dataset = cic_dataset.rename({x: features_rename.get(x.strip(), x.strip()) for x in cic_dataset.columns}, axis=1)\n",
    "cic_dataset['Src Port'] = np.random.randint(20000, 40000, cic_dataset.shape[0])\n",
    "\n",
    "# Here's important point: we couldn't extract true TTL from CIC-IDS-2018\n",
    "# So we have to synthesize some data here\n",
    "# And this is a good confirmation that TTL is a main feature used by models\n",
    "\n",
    "# This gives you around 0.6 F1 score\n",
    "cic_dataset['TTL'] = np.random.randint(60, 64, cic_dataset.shape[0])\n",
    "\n",
    "# These settings give you 0.1 total F1 score\n",
    "cic_dataset['TTL'] = 63\n",
    "cic_dataset.loc[cic_dataset['Label'] != 'Benign', 'TTL'] = 60\n",
    "\n",
    "# These settings give you 1.0 total F1 score!\n",
    "cic_dataset['TTL'] = 60\n",
    "cic_dataset.loc[cic_dataset['Label'] != 'Benign', 'TTL'] = 63\n",
    "\n",
    "\n",
    "cic_dataset['Class'] = 0\n",
    "cic_dataset.loc[cic_dataset['Label'] != 'Benign', 'Class'] = 1\n",
    "\n",
    "cic_dataset = cic_dataset.replace([np.inf, -np.inf], np.nan)\n",
    "cic_dataset = cic_dataset.dropna(axis=0)"
   ]
  },
  {
   "cell_type": "code",
   "execution_count": null,
   "id": "8ecf158b-7e3f-4296-b94d-299fb39f0ee7",
   "metadata": {
    "tags": []
   },
   "outputs": [],
   "source": [
    "from sklearn.neural_network import MLPClassifier\n",
    "from sklearn.ensemble import RandomForestClassifier\n",
    "from sklearn.ensemble import GradientBoostingClassifier"
   ]
  },
  {
   "cell_type": "markdown",
   "id": "4471db9a-66ac-43e5-b84c-afe02a220ee9",
   "metadata": {},
   "source": [
    "Train on campus dataset, check on Azure, multicloud, and CIC-18"
   ]
  },
  {
   "cell_type": "code",
   "execution_count": null,
   "id": "c767e132-2815-421c-99dd-04d661636225",
   "metadata": {
    "tags": []
   },
   "outputs": [],
   "source": [
    "target_variable = 'Class'\n",
    "features = list(set(campus_dataset.columns) - {target_variable})\n",
    "x_train = campus_dataset[features]\n",
    "y_train = campus_dataset[target_variable]\n",
    "x_test = azure_dataset[features]\n",
    "y_test = azure_dataset[target_variable]\n",
    "x_test_2 = multicloud_dataset[features]\n",
    "y_test_2 = multicloud_dataset[target_variable]\n",
    "x_test_3 = cic_dataset[features]\n",
    "y_test_3 = cic_dataset[target_variable]"
   ]
  },
  {
   "cell_type": "code",
   "execution_count": null,
   "id": "3c4c288b-b1e7-4395-aa5d-5e00859f8db8",
   "metadata": {
    "tags": []
   },
   "outputs": [],
   "source": [
    "from sklearn.preprocessing import StandardScaler\n",
    "x_train_scaler = StandardScaler()\n",
    "x_test_scaler = StandardScaler()\n",
    "x_test_2_scaler = StandardScaler()\n",
    "x_test_3_scaler = StandardScaler()\n",
    "\n",
    "x_train = pd.DataFrame(x_train_scaler.fit_transform(x_train), columns = x_train.columns)\n",
    "x_test = pd.DataFrame(x_test_scaler.fit_transform(x_test), columns = x_test.columns)\n",
    "x_test_2 = pd.DataFrame(x_test_2_scaler.fit_transform(x_test_2), columns = x_test_2.columns)\n",
    "x_test_3 = pd.DataFrame(x_test_3_scaler.fit_transform(x_test_3), columns = x_test_3.columns)"
   ]
  },
  {
   "cell_type": "code",
   "execution_count": null,
   "id": "715b421b-f0d8-4201-97fe-849766c32288",
   "metadata": {
    "tags": []
   },
   "outputs": [],
   "source": [
    "classifiers = [\n",
    "    MLPClassifier(),\n",
    "    GradientBoostingClassifier(),\n",
    "    RandomForestClassifier(),\n",
    "]"
   ]
  },
  {
   "cell_type": "code",
   "execution_count": null,
   "id": "1b99df0e-9e23-4847-80a3-0973e614b44e",
   "metadata": {
    "tags": []
   },
   "outputs": [],
   "source": [
    "for clf in classifiers:\n",
    "    print(clf)\n",
    "    clf.fit(x_train, y_train)\n",
    "    y_pred = clf.predict(x_train)\n",
    "    print(\"campus dataset training accuracy: \")\n",
    "    print(metrics.classification_report(y_train, y_pred))\n",
    "\n",
    "    print(\"Azure dataset test accuracy: \")\n",
    "    y_pred = clf.predict(x_test)\n",
    "    print(metrics.classification_report(y_test, y_pred))\n",
    "    print(metrics.confusion_matrix(y_test, y_pred))\n",
    "    \n",
    "    print(\"Multicloud dataset test accuracy: \")\n",
    "    y_pred = clf.predict(x_test_2)\n",
    "    print(metrics.classification_report(y_test_2, y_pred))\n",
    "    print(metrics.confusion_matrix(y_test_2, y_pred))\n",
    "    \n",
    "    print(\"CIC-IDS-2018 dataset test accuracy: \")\n",
    "    y_pred = clf.predict(x_test_3)\n",
    "    print(metrics.classification_report(y_test_3, y_pred))\n",
    "    print(metrics.confusion_matrix(y_test_3, y_pred))\n",
    "    print('#' * 10 + '\\n')"
   ]
  },
  {
   "cell_type": "markdown",
   "id": "9d237c25-98e6-4087-ae17-fdd8a67ffdfa",
   "metadata": {},
   "source": [
    "Let's explore the reasons of this performance"
   ]
  },
  {
   "cell_type": "code",
   "execution_count": null,
   "id": "821be572-c6b7-46fd-8c03-e5f6f5e75622",
   "metadata": {
    "tags": []
   },
   "outputs": [],
   "source": [
    "from sklearn.tree import DecisionTreeClassifier\n",
    "clf = DecisionTreeClassifier()\n",
    "clf.fit(x_train, y_train)\n",
    "\n",
    "y_pred = clf.predict(x_train)\n",
    "print(\"campus dataset training accuracy: \")\n",
    "print(metrics.classification_report(y_train, y_pred))\n",
    "\n",
    "y_pred = clf.predict(x_test)\n",
    "print(\"Azure dataset test accuracy: \")\n",
    "print(metrics.classification_report(y_test, y_pred))\n",
    "print(metrics.confusion_matrix(y_test, y_pred))\n",
    "\n",
    "y_pred = clf.predict(x_test_2)\n",
    "print(\"Multicloud dataset test accuracy: \")\n",
    "print(metrics.classification_report(y_test_2, y_pred))\n",
    "print(metrics.confusion_matrix(y_test_2, y_pred))\n",
    "\n",
    "y_pred = clf.predict(x_test_3)\n",
    "print(\"CIC-IDS-2018 dataset test accuracy: \")\n",
    "print(metrics.classification_report(y_test_3, y_pred))\n",
    "print(metrics.confusion_matrix(y_test_3, y_pred))\n",
    "\n",
    "fig = plt.figure(figsize=(25,20))\n",
    "_ = plot_tree(clf, feature_names=x_train.columns, class_names=['benign', 'attack'], filled=True, max_depth=2)"
   ]
  },
  {
   "cell_type": "markdown",
   "id": "f10d611b-b13e-4bca-b772-02af11ff1ecb",
   "metadata": {},
   "source": [
    "The answer is a shortcut in the dataset - usage of TTL as a feature.  \n",
    "Random forests choose features randomly and therefore often remove TTL from the list and doesn't overfit to it.  \n",
    "\n",
    "Anyway, TTL is a plain shortcut, let's remove it."
   ]
  },
  {
   "cell_type": "markdown",
   "id": "995004bc-b2be-4a14-b911-a2e60e94a574",
   "metadata": {
    "tags": []
   },
   "source": [
    "## Out of curiosity - dropping or noising the features\n",
    "Use information from the future - we know that TTL and Init Win Bytes are or would be shortcuts, so let's add some noise there or drop them and check performance."
   ]
  },
  {
   "cell_type": "code",
   "execution_count": null,
   "id": "5d9ff9fc-38db-4d7c-9b7a-ffa22b76fbb4",
   "metadata": {
    "tags": []
   },
   "outputs": [],
   "source": [
    "target_variable = 'Class'\n",
    "features = list(set(campus_dataset.columns) - {target_variable})\n",
    "x_train = campus_dataset[features].copy()\n",
    "y_train = campus_dataset[target_variable]\n",
    "x_test = azure_dataset[features]\n",
    "y_test = azure_dataset[target_variable]\n",
    "x_test_2 = multicloud_dataset[features]\n",
    "y_test_2 = multicloud_dataset[target_variable]\n",
    "x_test_3 = cic_dataset[features]\n",
    "y_test_3 = cic_dataset[target_variable]"
   ]
  },
  {
   "cell_type": "code",
   "execution_count": null,
   "id": "66a1e557-3068-4030-bd2f-f9ca51c3e9a6",
   "metadata": {
    "tags": []
   },
   "outputs": [],
   "source": [
    "x_train.loc[:, 'TTL'] += np.random.randint(-1, 1, [len(x_train)])\n",
    "x_train.loc[:, 'Bwd Init Win Bytes'] += np.random.randint(-5, 5, [len(x_train)])"
   ]
  },
  {
   "cell_type": "code",
   "execution_count": null,
   "id": "323013c2-e122-4e99-a110-d65c5a657cf6",
   "metadata": {
    "tags": []
   },
   "outputs": [],
   "source": [
    "x_train = pd.DataFrame(StandardScaler().fit_transform(x_train), columns = x_train.columns)\n",
    "x_test = pd.DataFrame(StandardScaler().fit_transform(x_test), columns = x_test.columns)\n",
    "x_test_2 = pd.DataFrame(StandardScaler().fit_transform(x_test_2), columns = x_test_2.columns)\n",
    "x_test_3 = pd.DataFrame(StandardScaler().fit_transform(x_test_3), columns = x_test_3.columns)"
   ]
  },
  {
   "cell_type": "code",
   "execution_count": null,
   "id": "02279856-73fe-4fe5-981b-f32ca4006811",
   "metadata": {
    "tags": []
   },
   "outputs": [],
   "source": [
    "classifiers = [\n",
    "    MLPClassifier(),\n",
    "    GradientBoostingClassifier(),\n",
    "    RandomForestClassifier(),\n",
    "]\n",
    "for clf in classifiers:\n",
    "    print(clf)\n",
    "    clf.fit(x_train, y_train)\n",
    "    y_pred = clf.predict(x_train)\n",
    "    print(\"campus dataset training accuracy: \")\n",
    "    print(metrics.classification_report(y_train, y_pred))\n",
    "\n",
    "    print(\"Azure dataset test accuracy: \")\n",
    "    y_pred = clf.predict(x_test)\n",
    "    print(metrics.classification_report(y_test, y_pred))\n",
    "    print(metrics.confusion_matrix(y_test, y_pred))\n",
    "    \n",
    "    print(\"Multicloud dataset test accuracy: \")\n",
    "    y_pred = clf.predict(x_test_2)\n",
    "    print(metrics.classification_report(y_test_2, y_pred))\n",
    "    print(metrics.confusion_matrix(y_test_2, y_pred))\n",
    "    \n",
    "    print(\"CIC-IDS-2018 dataset test accuracy: \")\n",
    "    y_pred = clf.predict(x_test_3)\n",
    "    print(metrics.classification_report(y_test_3, y_pred))\n",
    "    print(metrics.confusion_matrix(y_test_3, y_pred))\n",
    "    print('#' * 10 + '\\n')"
   ]
  },
  {
   "cell_type": "markdown",
   "id": "2dc9d741-3da3-4f91-b2a9-c3923d569f6d",
   "metadata": {},
   "source": [
    "### Or let's just drop them"
   ]
  },
  {
   "cell_type": "code",
   "execution_count": null,
   "id": "c712a3bd-03e8-47b7-985d-fd54456d031d",
   "metadata": {
    "tags": []
   },
   "outputs": [],
   "source": [
    "x_train = x_train.drop(['TTL', 'Bwd Init Win Bytes'], axis=1)\n",
    "x_test = x_test.drop(['TTL', 'Bwd Init Win Bytes'], axis=1)\n",
    "x_test_2 = x_test_2.drop(['TTL', 'Bwd Init Win Bytes'], axis=1)\n",
    "x_test_3 = x_test_3.drop(['TTL', 'Bwd Init Win Bytes'], axis=1)"
   ]
  },
  {
   "cell_type": "code",
   "execution_count": null,
   "id": "41e66729-7b8d-4278-8eb9-2ec3970f174b",
   "metadata": {
    "tags": []
   },
   "outputs": [],
   "source": [
    "classifiers = [\n",
    "    MLPClassifier(),\n",
    "    GradientBoostingClassifier(),\n",
    "    RandomForestClassifier(max_depth=4),\n",
    "]\n",
    "for clf in classifiers:\n",
    "    print(clf)\n",
    "    clf.fit(x_train, y_train)\n",
    "    y_pred = clf.predict(x_train)\n",
    "    print(\"campus dataset training accuracy: \")\n",
    "    print(metrics.classification_report(y_train, y_pred))\n",
    "\n",
    "    print(\"Azure dataset test accuracy: \")\n",
    "    y_pred = clf.predict(x_test)\n",
    "    print(metrics.classification_report(y_test, y_pred))\n",
    "    print(metrics.confusion_matrix(y_test, y_pred))\n",
    "    \n",
    "    print(\"Multicloud dataset test accuracy: \")\n",
    "    y_pred = clf.predict(x_test_2)\n",
    "    print(metrics.classification_report(y_test_2, y_pred))\n",
    "    print(metrics.confusion_matrix(y_test_2, y_pred))\n",
    "    \n",
    "    print(\"CIC-IDS-2018 dataset test accuracy: \")\n",
    "    y_pred = clf.predict(x_test_3)\n",
    "    print(metrics.classification_report(y_test_3, y_pred))\n",
    "    print(metrics.confusion_matrix(y_test_3, y_pred))\n",
    "    print('#' * 10 + '\\n')"
   ]
  },
  {
   "cell_type": "code",
   "execution_count": null,
   "id": "28014788-ddfa-4ebb-a0a8-a6eb75700681",
   "metadata": {
    "tags": []
   },
   "outputs": [],
   "source": [
    "trustee = ClassificationTrustee(expert=classifiers[0])\n",
    "trustee.fit(x_train, y_train, num_iter=10, num_stability_iter=3, samples_size=0.8)\n",
    "\n",
    "_, dt, _, score = trustee.explain()\n",
    "print(f\"Training score of pruned DT: {score}\")\n",
    "dt_y_pred = dt.predict(x_test)\n",
    "\n",
    "print(\"Model explanation global fidelity report:\")\n",
    "print(metrics.classification_report(classifiers[0].predict(x_test), dt_y_pred))\n",
    "print(\"Model explanation score report:\")\n",
    "print(metrics.classification_report(y_test, dt_y_pred))\n",
    "\n",
    "fig = plt.figure(figsize=(25,20))\n",
    "plot_tree(dt, feature_names=x_train.columns, class_names=['benign', 'attack'], filled=True, max_depth=3)"
   ]
  },
  {
   "cell_type": "markdown",
   "id": "308ce3e1-d80e-4306-9292-37cd03b831aa",
   "metadata": {},
   "source": [
    "### Checking SMOTE"
   ]
  },
  {
   "cell_type": "code",
   "execution_count": null,
   "id": "30f83172-5ff4-4933-b556-a583cbb61b4f",
   "metadata": {
    "tags": []
   },
   "outputs": [],
   "source": [
    "import smote_variants as sv"
   ]
  },
  {
   "cell_type": "code",
   "execution_count": null,
   "id": "bb40c395-700a-435d-ab63-4ec847f19127",
   "metadata": {
    "tags": []
   },
   "outputs": [],
   "source": [
    "target_variable = 'Class'\n",
    "features = list(set(campus_dataset.columns) - {target_variable})\n",
    "x_train = campus_dataset[features].copy()\n",
    "y_train = campus_dataset[target_variable]\n",
    "x_test = azure_dataset[features]\n",
    "y_test = azure_dataset[target_variable]\n",
    "x_test_2 = multicloud_dataset[features]\n",
    "y_test_2 = multicloud_dataset[target_variable]\n",
    "x_test_3 = cic_dataset[features]\n",
    "y_test_3 = cic_dataset[target_variable]"
   ]
  },
  {
   "cell_type": "code",
   "execution_count": null,
   "id": "5f1eeac9-5eae-4a5b-86e4-5efb9ec1ef9c",
   "metadata": {
    "tags": []
   },
   "outputs": [],
   "source": [
    "from sklearn.preprocessing import StandardScaler\n",
    "\n",
    "x_train = pd.DataFrame(StandardScaler().fit_transform(x_train), columns = x_train.columns)\n",
    "x_test = pd.DataFrame(StandardScaler().fit_transform(x_test), columns = x_test.columns)\n",
    "x_test_2 = pd.DataFrame(StandardScaler().fit_transform(x_test_2), columns = x_test_2.columns)\n",
    "x_test_3 = pd.DataFrame(StandardScaler().fit_transform(x_test_3), columns = x_test_3.columns)"
   ]
  },
  {
   "cell_type": "code",
   "execution_count": null,
   "id": "42cfac58-2cfe-4f0a-b71b-86ea61e42729",
   "metadata": {
    "tags": []
   },
   "outputs": [],
   "source": [
    "oversampler = sv.SMOTE()\n",
    "X_samp, y_samp = oversampler.sample(x_train.to_numpy(), y_train.to_numpy())\n",
    "\n",
    "classifiers = [\n",
    "    MLPClassifier(),\n",
    "    GradientBoostingClassifier(),\n",
    "    RandomForestClassifier(max_depth=4),\n",
    "]\n",
    "for clf in classifiers:\n",
    "    print(clf)\n",
    "    clf.fit(X_samp, y_samp)\n",
    "    y_pred = clf.predict(X_samp)\n",
    "    print(\"campus dataset training accuracy: \")\n",
    "    print(metrics.classification_report(y_samp, y_pred))\n",
    "\n",
    "    print(\"Azure dataset test accuracy: \")\n",
    "    y_pred = clf.predict(x_test)\n",
    "    print(metrics.classification_report(y_test, y_pred))\n",
    "    print(metrics.confusion_matrix(y_test, y_pred))\n",
    "    \n",
    "    print(\"Multicloud dataset test accuracy: \")\n",
    "    y_pred = clf.predict(x_test_2)\n",
    "    print(metrics.classification_report(y_test_2, y_pred))\n",
    "    print(metrics.confusion_matrix(y_test_2, y_pred))\n",
    "    \n",
    "    print(\"CIC-IDS-2018 dataset test accuracy: \")\n",
    "    y_pred = clf.predict(x_test_3)\n",
    "    print(metrics.classification_report(y_test_3, y_pred))\n",
    "    print(metrics.confusion_matrix(y_test_3, y_pred))\n",
    "    print('#' * 10 + '\\n')"
   ]
  },
  {
   "cell_type": "markdown",
   "id": "91173d8c-ab45-49e1-8430-a7dcb9c69deb",
   "metadata": {
    "tags": []
   },
   "source": [
    "### SYMPROD SMOTE"
   ]
  },
  {
   "cell_type": "code",
   "execution_count": null,
   "id": "ee20a3c3-49fa-4778-a727-3c962bc5c15e",
   "metadata": {
    "tags": []
   },
   "outputs": [],
   "source": [
    "oversampler = sv.SYMPROD()\n",
    "X_samp, y_samp = oversampler.sample(x_train.to_numpy(), y_train.to_numpy())\n",
    "\n",
    "classifiers = [\n",
    "    MLPClassifier(),\n",
    "    GradientBoostingClassifier(),\n",
    "    RandomForestClassifier(max_depth=4),\n",
    "]\n",
    "for clf in classifiers:\n",
    "    print(clf)\n",
    "    clf.fit(X_samp, y_samp)\n",
    "    y_pred = clf.predict(X_samp)\n",
    "    print(\"campus dataset training accuracy: \")\n",
    "    print(metrics.classification_report(y_samp, y_pred))\n",
    "\n",
    "    print(\"Azure dataset test accuracy: \")\n",
    "    y_pred = clf.predict(x_test)\n",
    "    print(metrics.classification_report(y_test, y_pred))\n",
    "    print(metrics.confusion_matrix(y_test, y_pred))\n",
    "    \n",
    "    print(\"Multicloud dataset test accuracy: \")\n",
    "    y_pred = clf.predict(x_test_2)\n",
    "    print(metrics.classification_report(y_test_2, y_pred))\n",
    "    print(metrics.confusion_matrix(y_test_2, y_pred))\n",
    "    \n",
    "    print(\"CIC-IDS-2018 dataset test accuracy: \")\n",
    "    y_pred = clf.predict(x_test_3)\n",
    "    print(metrics.classification_report(y_test_3, y_pred))\n",
    "    print(metrics.confusion_matrix(y_test_3, y_pred))\n",
    "    print('#' * 10 + '\\n')"
   ]
  },
  {
   "cell_type": "markdown",
   "id": "bf3311a3-f446-4cd3-bccf-e4b8ff6e11c5",
   "metadata": {
    "tags": []
   },
   "source": [
    "### CCR"
   ]
  },
  {
   "cell_type": "code",
   "execution_count": null,
   "id": "1e749d2f-9d90-4d88-9636-1957962ee6ad",
   "metadata": {
    "tags": []
   },
   "outputs": [],
   "source": [
    "oversampler = sv.CCR()\n",
    "X_samp, y_samp = oversampler.sample(x_train.to_numpy(), y_train.to_numpy())\n",
    "\n",
    "classifiers = [\n",
    "    MLPClassifier(),\n",
    "    GradientBoostingClassifier(),\n",
    "    RandomForestClassifier(max_depth=4),\n",
    "]\n",
    "for clf in classifiers:\n",
    "    print(clf)\n",
    "    clf.fit(X_samp, y_samp)\n",
    "    y_pred = clf.predict(X_samp)\n",
    "    print(\"campus dataset training accuracy: \")\n",
    "    print(metrics.classification_report(y_samp, y_pred))\n",
    "\n",
    "    print(\"Azure dataset test accuracy: \")\n",
    "    y_pred = clf.predict(x_test)\n",
    "    print(metrics.classification_report(y_test, y_pred))\n",
    "    print(metrics.confusion_matrix(y_test, y_pred))\n",
    "    \n",
    "    print(\"Multicloud dataset test accuracy: \")\n",
    "    y_pred = clf.predict(x_test_2)\n",
    "    print(metrics.classification_report(y_test_2, y_pred))\n",
    "    print(metrics.confusion_matrix(y_test_2, y_pred))\n",
    "    \n",
    "    print(\"CIC-IDS-2018 dataset test accuracy: \")\n",
    "    y_pred = clf.predict(x_test_3)\n",
    "    print(metrics.classification_report(y_test_3, y_pred))\n",
    "    print(metrics.confusion_matrix(y_test_3, y_pred))\n",
    "    print('#' * 10 + '\\n')"
   ]
  }
 ],
 "metadata": {
  "kernelspec": {
   "display_name": "Python 3 (ipykernel)",
   "language": "python",
   "name": "python3"
  },
  "language_info": {
   "codemirror_mode": {
    "name": "ipython",
    "version": 3
   },
   "file_extension": ".py",
   "mimetype": "text/x-python",
   "name": "python",
   "nbconvert_exporter": "python",
   "pygments_lexer": "ipython3",
   "version": "3.10.0"
  }
 },
 "nbformat": 4,
 "nbformat_minor": 5
}
