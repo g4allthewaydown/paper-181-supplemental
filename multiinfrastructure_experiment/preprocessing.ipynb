{
 "cells": [
  {
   "cell_type": "markdown",
   "id": "2268021c-64bc-4d9d-85fa-8b5749dadf0e",
   "metadata": {},
   "source": [
    "## Preprocessing"
   ]
  },
  {
   "cell_type": "code",
   "execution_count": null,
   "id": "f3bbe7bc-3805-479c-a2f7-87c8c78bcdee",
   "metadata": {},
   "outputs": [],
   "source": [
    "import pandas as pd\n",
    "from sklearn.tree import DecisionTreeClassifier, plot_tree\n",
    "from sklearn.model_selection import train_test_split\n",
    "from sklearn import metrics\n",
    "import matplotlib.pyplot as plt\n",
    "import numpy as np"
   ]
  },
  {
   "cell_type": "code",
   "execution_count": null,
   "id": "1de93839-e5cd-432c-a218-f064f3c4e16d",
   "metadata": {},
   "outputs": [],
   "source": [
    "campus_dataset_attack = pd.read_csv('connectors-salt-attack-443.pcap_Flow.csv')\n",
    "campus_dataset_attack['Class'] = 1\n",
    "\n",
    "campus_dataset_benign = pd.read_csv('connectors-salt-benign-443.pcap_Flow.csv')\n",
    "campus_dataset_benign['Class'] = 0\n",
    "\n",
    "campus_dataset = pd.concat([campus_dataset_attack, campus_dataset_benign])"
   ]
  },
  {
   "cell_type": "code",
   "execution_count": null,
   "id": "ca647a76-33e6-4b30-ba5f-bea1b1953739",
   "metadata": {},
   "outputs": [],
   "source": [
    "azure_dataset_attack = pd.read_csv('connectors-azure-attack-443.pcap_Flow.csv')\n",
    "azure_dataset_attack['Class'] = 1\n",
    "\n",
    "azure_dataset_benign = pd.read_csv('connectors-azure-benign-443.pcap_Flow.csv')\n",
    "azure_dataset_benign['Class'] = 0\n",
    "\n",
    "azure_dataset = pd.concat([azure_dataset_attack, azure_dataset_benign])"
   ]
  },
  {
   "cell_type": "code",
   "execution_count": null,
   "id": "2fcb80e8-e645-4cbc-be8f-187f25cd9f23",
   "metadata": {},
   "outputs": [],
   "source": [
    "print(len(campus_dataset_attack))\n",
    "print(len(campus_dataset_benign))\n",
    "print(len(azure_dataset_attack))\n",
    "print(len(azure_dataset_benign))"
   ]
  },
  {
   "cell_type": "code",
   "execution_count": null,
   "id": "f9e75a4b-185f-48dc-bb1c-39fe0423ff3b",
   "metadata": {},
   "outputs": [],
   "source": [
    "len(campus_dataset_benign.columns)"
   ]
  },
  {
   "cell_type": "code",
   "execution_count": null,
   "id": "a7afca39-7075-4bd7-8318-21a0ee8812b9",
   "metadata": {},
   "outputs": [],
   "source": [
    "campus_dataset = campus_dataset.drop([\n",
    "    'Flow ID',\n",
    "    'Src IP',\n",
    "    'Dst IP',\n",
    "    'Src Port',\n",
    "    'Timestamp', \n",
    "    'Protocol',    # always tcp\n",
    "    'Label',       # empty\n",
    "], axis=1)\n",
    "\n",
    "azure_dataset = azure_dataset.drop([\n",
    "    'Flow ID',\n",
    "    'Src IP',\n",
    "    'Dst IP',\n",
    "    'Src Port',\n",
    "    'Timestamp', \n",
    "    'Protocol',    # always tcp\n",
    "    'Label',       # empty\n",
    "], axis=1)\n",
    "\n",
    "campus_dataset = campus_dataset.replace([np.inf, -np.inf], np.nan)\n",
    "campus_dataset = campus_dataset.dropna(axis=0)\n",
    "\n",
    "azure_dataset = azure_dataset.replace([np.inf, -np.inf], np.nan)\n",
    "azure_dataset = azure_dataset.dropna(axis=0)"
   ]
  },
  {
   "cell_type": "code",
   "execution_count": null,
   "id": "71b09484-916d-4e21-8532-bf1d52fe4440",
   "metadata": {},
   "outputs": [],
   "source": [
    "target_variable = 'Class'\n",
    "features = list(set(campus_dataset.columns) - {target_variable})\n",
    "x_campus = campus_dataset[features]\n",
    "y_campus = campus_dataset[target_variable]\n",
    "x_azure = azure_dataset[features]\n",
    "y_azure = azure_dataset[target_variable]"
   ]
  },
  {
   "cell_type": "code",
   "execution_count": null,
   "id": "3682d105-beed-4b6e-ade1-ab7d6c3d3d92",
   "metadata": {},
   "outputs": [],
   "source": [
    "x_campus_train, x_campus_test, y_campus_train, y_campus_test = train_test_split(x_campus, y_campus, test_size=0.25)\n",
    "x_azure_train, x_azure_test, y_azure_train, y_azure_test = train_test_split(x_azure, y_azure, test_size=0.25)"
   ]
  },
  {
   "cell_type": "markdown",
   "id": "d38d70ff-ea70-4898-9e2f-ddef90450922",
   "metadata": {},
   "source": [
    "### Campus exploration"
   ]
  },
  {
   "cell_type": "code",
   "execution_count": null,
   "id": "3110e546-c09f-4c65-b8a8-63f0fd56d086",
   "metadata": {},
   "outputs": [],
   "source": [
    "clf = DecisionTreeClassifier(max_depth=2)\n",
    "clf.fit(x_campus_train, y_campus_train)\n",
    "\n",
    "y_pred = clf.predict(x_campus_test)\n",
    "print(\"campus dataset training accuracy: \")\n",
    "print(metrics.classification_report(y_campus_test, y_pred))\n",
    "print(metrics.confusion_matrix(y_campus_test, y_pred))\n",
    "\n",
    "y_pred = clf.predict(x_azure_test)\n",
    "print(\"Azure dataset testing accuracy: \")\n",
    "print(metrics.classification_report(y_azure_test, y_pred))\n",
    "print(metrics.confusion_matrix(y_azure_test, y_pred))\n",
    "\n",
    "\n",
    "fig = plt.figure(figsize=(25,20))\n",
    "_ = plot_tree(clf, feature_names=x_campus.columns, class_names=['benign', 'attack'], filled=True, max_depth=2)"
   ]
  },
  {
   "cell_type": "markdown",
   "id": "65b5805a-bbde-48b3-8736-43a22e1aa557",
   "metadata": {},
   "source": [
    "### Azure exploration"
   ]
  },
  {
   "cell_type": "code",
   "execution_count": null,
   "id": "2532b7fd-896b-4364-b85f-fd2466143485",
   "metadata": {},
   "outputs": [],
   "source": [
    "clf = DecisionTreeClassifier(max_depth=2)\n",
    "clf.fit(x_azure, y_azure)\n",
    "\n",
    "y_pred = clf.predict(x_azure_test)\n",
    "print(\"Azure dataset training accuracy: \")\n",
    "print(metrics.classification_report(y_azure_test, y_pred))\n",
    "print(metrics.confusion_matrix(y_azure_test, y_pred))\n",
    "\n",
    "y_pred = clf.predict(x_campus_test)\n",
    "print(\"campus dataset testing accuracy: \")\n",
    "print(metrics.classification_report(y_campus_test, y_pred))\n",
    "print(metrics.confusion_matrix(y_campus_test, y_pred))\n",
    "\n",
    "\n",
    "fig = plt.figure(figsize=(25,20))\n",
    "_ = plot_tree(clf, feature_names=x_azure.columns, class_names=['benign', 'attack'], filled=True, max_depth=2)"
   ]
  },
  {
   "cell_type": "code",
   "execution_count": null,
   "id": "677ffc7f-5f3e-465b-8f35-622f90860cf6",
   "metadata": {},
   "outputs": [],
   "source": []
  }
 ],
 "metadata": {
  "kernelspec": {
   "display_name": "netunicorn",
   "language": "python",
   "name": "netunicorn"
  },
  "language_info": {
   "codemirror_mode": {
    "name": "ipython",
    "version": 3
   },
   "file_extension": ".py",
   "mimetype": "text/x-python",
   "name": "python",
   "nbconvert_exporter": "python",
   "pygments_lexer": "ipython3",
   "version": "3.9.0"
  }
 },
 "nbformat": 4,
 "nbformat_minor": 5
}
