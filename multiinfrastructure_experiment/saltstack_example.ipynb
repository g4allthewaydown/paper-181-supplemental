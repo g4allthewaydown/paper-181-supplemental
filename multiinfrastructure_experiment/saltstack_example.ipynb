{
 "cells": [
  {
   "cell_type": "code",
   "execution_count": 1,
   "id": "657eb616-117c-4601-9a98-7682c8a51670",
   "metadata": {},
   "outputs": [
    {
     "data": {
      "text/plain": [
       "'3.9.0 (default, Nov 15 2020, 14:28:56) \\n[GCC 7.3.0]'"
      ]
     },
     "execution_count": 1,
     "metadata": {},
     "output_type": "execute_result"
    }
   ],
   "source": [
    "import sys\n",
    "sys.version"
   ]
  },
  {
   "cell_type": "code",
   "execution_count": 2,
   "id": "34390fb7-ced4-435c-a44f-a407d0c7315f",
   "metadata": {},
   "outputs": [],
   "source": [
    "%load_ext dotenv\n",
    "%dotenv"
   ]
  },
  {
   "cell_type": "code",
   "execution_count": 3,
   "id": "2aa438c5-7909-49b2-8cfd-8fcc341e3217",
   "metadata": {},
   "outputs": [],
   "source": [
    "import os\n",
    "\n",
    "from netunicorn.base import MinionPool, Task\n",
    "from netunicorn.base.experiment import Experiment, ExperimentStatus\n",
    "from netunicorn.base.pipeline import Pipeline\n",
    "from netunicorn.library.basic import ShellCommand\n",
    "from netunicorn.client.remote import RemoteClient"
   ]
  },
  {
   "cell_type": "code",
   "execution_count": 4,
   "id": "6c82fc9d-81c1-4698-bc4d-510312ef2263",
   "metadata": {},
   "outputs": [],
   "source": [
    "class BenignTask(Task):\n",
    "    def __init__(self, url1, url2):\n",
    "        self.url1 = url1\n",
    "        self.url2 = url2\n",
    "    \n",
    "    def run(self):\n",
    "        import subprocess\n",
    "        for i in range(500):\n",
    "            subprocess.check_output(f'curl {self.url1}', shell=True)\n",
    "            subprocess.check_output(f'curl {self.url2}', shell=True)\n",
    "        return 0"
   ]
  },
  {
   "cell_type": "code",
   "execution_count": 15,
   "id": "9c3377ab-5bbe-4264-8e71-a32392843b86",
   "metadata": {},
   "outputs": [],
   "source": [
    "attacker_pipeline = (\n",
    "    Pipeline()\n",
    "    .then(ShellCommand(\n",
    "        \"python ./patator.py http_fuzz \"\n",
    "        f\"url={os.environ['VICTIM_ENDPOINT']} \"\n",
    "        \"persistent=1 user_pass=FILE0:FILE0 0=/opt/patator/passwords.txt -x ignore:code=401\"\n",
    "    ))\n",
    ")\n",
    "attacker_pipeline.environment_definition.image = \"redacted\""
   ]
  },
  {
   "cell_type": "code",
   "execution_count": 16,
   "id": "d9350159-b490-461c-ad5c-f4b8cf4016bc",
   "metadata": {},
   "outputs": [],
   "source": [
    "benign_pipeline = Pipeline().then(BenignTask(\n",
    "    \"redacted\",\n",
    "    \"redacted\",\n",
    "))\n",
    "benign_pipeline.environment_definition.image = \"redacted\""
   ]
  },
  {
   "cell_type": "code",
   "execution_count": 17,
   "id": "0a375f7f-ce05-4a19-85e8-1f978563a893",
   "metadata": {},
   "outputs": [],
   "source": [
    "client = RemoteClient(\n",
    "    endpoint=os.environ['UNICORN_ENDPOINT'],\n",
    "    login=os.environ['UNICORN_LOGIN'],\n",
    "    password=os.environ['UNICORN_PASSWORD']\n",
    ")"
   ]
  },
  {
   "cell_type": "code",
   "execution_count": 8,
   "id": "424ea55f-0bec-4284-b7a2-55c47f8fa13f",
   "metadata": {},
   "outputs": [],
   "source": [
    "minion_pool = client.get_minion_pool()"
   ]
  },
  {
   "cell_type": "code",
   "execution_count": 18,
   "id": "bce0af01-7d60-413d-a9ee-05839df2b741",
   "metadata": {},
   "outputs": [],
   "source": [
    "attacker_pool = MinionPool([x for x in minion_pool if x.name in {\n",
    "    'raspi-e4:5f:01:56:d9:a3',\n",
    "    'raspi-e4:5f:01:75:6b:2c',\n",
    "}])\n",
    "benign_pool = MinionPool([x for x in minion_pool if x.name in {\n",
    "    'raspi-dc:a6:32:d7:6e:64',\n",
    "    'raspi-e4:5f:01:56:d9:8b'\n",
    "}])"
   ]
  },
  {
   "cell_type": "code",
   "execution_count": 19,
   "id": "6b1d06c2-ce99-46e4-b431-69f2e98dae91",
   "metadata": {},
   "outputs": [],
   "source": [
    "assert len(attacker_pool) == 2\n",
    "assert len(benign_pool) == 2"
   ]
  },
  {
   "cell_type": "code",
   "execution_count": 20,
   "id": "ae17050b-8337-4660-a8c6-e7834f1ddccb",
   "metadata": {},
   "outputs": [],
   "source": [
    "experiment_label = 'connectors-salt-0.1-attack'\n",
    "experiment = Experiment().map(attacker_pool, attacker_pipeline)"
   ]
  },
  {
   "cell_type": "code",
   "execution_count": 21,
   "id": "e2cbb4da-3671-41e0-955f-d11b67538dde",
   "metadata": {},
   "outputs": [
    {
     "data": {
      "text/plain": [
       "'connectors-salt-0.1-attack'"
      ]
     },
     "execution_count": 21,
     "metadata": {},
     "output_type": "execute_result"
    }
   ],
   "source": [
    "client.prepare_experiment(experiment, experiment_label)"
   ]
  },
  {
   "cell_type": "code",
   "execution_count": 22,
   "id": "e7a53be3-52e3-4760-a266-671db6ef28fd",
   "metadata": {},
   "outputs": [
    {
     "data": {
      "text/plain": [
       "'connectors-salt-0.1-attack'"
      ]
     },
     "execution_count": 22,
     "metadata": {},
     "output_type": "execute_result"
    }
   ],
   "source": [
    "client.start_execution(experiment_label)"
   ]
  },
  {
   "cell_type": "code",
   "execution_count": 23,
   "id": "0d39d696-988c-41d2-85e3-587c397fc2b3",
   "metadata": {},
   "outputs": [],
   "source": [
    "experiment_label = 'connectors-salt-0.1-benign'\n",
    "experiment = Experiment().map(benign_pool, benign_pipeline)"
   ]
  },
  {
   "cell_type": "code",
   "execution_count": 24,
   "id": "0ceb5662-2aa6-4c9a-8fbb-55962bb2eb76",
   "metadata": {},
   "outputs": [
    {
     "data": {
      "text/plain": [
       "'connectors-salt-0.1-benign'"
      ]
     },
     "execution_count": 24,
     "metadata": {},
     "output_type": "execute_result"
    }
   ],
   "source": [
    "client.prepare_experiment(experiment, experiment_label)"
   ]
  },
  {
   "cell_type": "code",
   "execution_count": 25,
   "id": "96a6f9a0-8d3f-4834-84e4-b90a2ede711e",
   "metadata": {},
   "outputs": [
    {
     "data": {
      "text/plain": [
       "'connectors-salt-0.1-benign'"
      ]
     },
     "execution_count": 25,
     "metadata": {},
     "output_type": "execute_result"
    }
   ],
   "source": [
    "client.start_execution(experiment_label)"
   ]
  },
  {
   "cell_type": "code",
   "execution_count": null,
   "id": "6d4b7760-f11f-48b0-b5d5-0c7022f701d4",
   "metadata": {},
   "outputs": [],
   "source": []
  }
 ],
 "metadata": {
  "kernelspec": {
   "display_name": "Python 3 (ipykernel)",
   "language": "python",
   "name": "python3"
  },
  "language_info": {
   "codemirror_mode": {
    "name": "ipython",
    "version": 3
   },
   "file_extension": ".py",
   "mimetype": "text/x-python",
   "name": "python",
   "nbconvert_exporter": "python",
   "pygments_lexer": "ipython3",
   "version": "3.9.0"
  }
 },
 "nbformat": 4,
 "nbformat_minor": 5
}
